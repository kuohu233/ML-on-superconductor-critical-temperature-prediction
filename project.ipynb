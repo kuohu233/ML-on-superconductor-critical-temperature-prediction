{
 "cells": [
  {
   "cell_type": "markdown",
   "metadata": {},
   "source": [
    "<center>IE 7300: Statistical Learning for Engineering</center>"
   ]
  },
  {
   "cell_type": "markdown",
   "metadata": {},
   "source": [
    "### <center>Superconductivity Materials and Critical Temperature</center>\n",
    "\n",
    "<center>Youyu Zhang</center>\n",
    "<center>zhang.youy@northeastern.edu</center>\n",
    "<center>(530)574-2826</center>\n",
    "<center>Submitted by 10/25/2022</center>"
   ]
  },
  {
   "cell_type": "code",
   "execution_count": 1,
   "metadata": {},
   "outputs": [],
   "source": [
    "import numpy as np\n",
    "import pandas as pd\n",
    "import matplotlib.pyplot as plt\n",
    "import seaborn as sns\n",
    "import itertools\n",
    "import pickle\n",
    "import os"
   ]
  },
  {
   "cell_type": "code",
   "execution_count": 2,
   "metadata": {},
   "outputs": [],
   "source": [
    "# Import dataset. Critical temperature unit: K\n",
    "dataset = pd.read_csv('train.csv')       # Main feature dataset\n",
    "formula = pd.read_csv('unique_m.csv')    # Formula of materials."
   ]
  },
  {
   "cell_type": "code",
   "execution_count": 3,
   "metadata": {},
   "outputs": [
    {
     "data": {
      "text/html": [
       "<div>\n",
       "<style scoped>\n",
       "    .dataframe tbody tr th:only-of-type {\n",
       "        vertical-align: middle;\n",
       "    }\n",
       "\n",
       "    .dataframe tbody tr th {\n",
       "        vertical-align: top;\n",
       "    }\n",
       "\n",
       "    .dataframe thead th {\n",
       "        text-align: right;\n",
       "    }\n",
       "</style>\n",
       "<table border=\"1\" class=\"dataframe\">\n",
       "  <thead>\n",
       "    <tr style=\"text-align: right;\">\n",
       "      <th></th>\n",
       "      <th>number_of_elements</th>\n",
       "      <th>mean_atomic_mass</th>\n",
       "      <th>wtd_mean_atomic_mass</th>\n",
       "      <th>gmean_atomic_mass</th>\n",
       "      <th>wtd_gmean_atomic_mass</th>\n",
       "      <th>entropy_atomic_mass</th>\n",
       "      <th>wtd_entropy_atomic_mass</th>\n",
       "      <th>range_atomic_mass</th>\n",
       "      <th>wtd_range_atomic_mass</th>\n",
       "      <th>std_atomic_mass</th>\n",
       "      <th>...</th>\n",
       "      <th>wtd_mean_Valence</th>\n",
       "      <th>gmean_Valence</th>\n",
       "      <th>wtd_gmean_Valence</th>\n",
       "      <th>entropy_Valence</th>\n",
       "      <th>wtd_entropy_Valence</th>\n",
       "      <th>range_Valence</th>\n",
       "      <th>wtd_range_Valence</th>\n",
       "      <th>std_Valence</th>\n",
       "      <th>wtd_std_Valence</th>\n",
       "      <th>critical_temp</th>\n",
       "    </tr>\n",
       "  </thead>\n",
       "  <tbody>\n",
       "    <tr>\n",
       "      <th>count</th>\n",
       "      <td>21263.000000</td>\n",
       "      <td>21263.000000</td>\n",
       "      <td>21263.000000</td>\n",
       "      <td>21263.000000</td>\n",
       "      <td>21263.000000</td>\n",
       "      <td>21263.000000</td>\n",
       "      <td>21263.000000</td>\n",
       "      <td>21263.000000</td>\n",
       "      <td>21263.000000</td>\n",
       "      <td>21263.000000</td>\n",
       "      <td>...</td>\n",
       "      <td>21263.000000</td>\n",
       "      <td>21263.000000</td>\n",
       "      <td>21263.000000</td>\n",
       "      <td>21263.000000</td>\n",
       "      <td>21263.000000</td>\n",
       "      <td>21263.000000</td>\n",
       "      <td>21263.000000</td>\n",
       "      <td>21263.000000</td>\n",
       "      <td>21263.000000</td>\n",
       "      <td>21263.000000</td>\n",
       "    </tr>\n",
       "    <tr>\n",
       "      <th>mean</th>\n",
       "      <td>4.115224</td>\n",
       "      <td>87.557631</td>\n",
       "      <td>72.988310</td>\n",
       "      <td>71.290627</td>\n",
       "      <td>58.539916</td>\n",
       "      <td>1.165608</td>\n",
       "      <td>1.063884</td>\n",
       "      <td>115.601251</td>\n",
       "      <td>33.225218</td>\n",
       "      <td>44.391893</td>\n",
       "      <td>...</td>\n",
       "      <td>3.153127</td>\n",
       "      <td>3.056536</td>\n",
       "      <td>3.055885</td>\n",
       "      <td>1.295682</td>\n",
       "      <td>1.052841</td>\n",
       "      <td>2.041010</td>\n",
       "      <td>1.483007</td>\n",
       "      <td>0.839342</td>\n",
       "      <td>0.673987</td>\n",
       "      <td>34.421219</td>\n",
       "    </tr>\n",
       "    <tr>\n",
       "      <th>std</th>\n",
       "      <td>1.439295</td>\n",
       "      <td>29.676497</td>\n",
       "      <td>33.490406</td>\n",
       "      <td>31.030272</td>\n",
       "      <td>36.651067</td>\n",
       "      <td>0.364930</td>\n",
       "      <td>0.401423</td>\n",
       "      <td>54.626887</td>\n",
       "      <td>26.967752</td>\n",
       "      <td>20.035430</td>\n",
       "      <td>...</td>\n",
       "      <td>1.191249</td>\n",
       "      <td>1.046257</td>\n",
       "      <td>1.174815</td>\n",
       "      <td>0.393155</td>\n",
       "      <td>0.380291</td>\n",
       "      <td>1.242345</td>\n",
       "      <td>0.978176</td>\n",
       "      <td>0.484676</td>\n",
       "      <td>0.455580</td>\n",
       "      <td>34.254362</td>\n",
       "    </tr>\n",
       "    <tr>\n",
       "      <th>min</th>\n",
       "      <td>1.000000</td>\n",
       "      <td>6.941000</td>\n",
       "      <td>6.423452</td>\n",
       "      <td>5.320573</td>\n",
       "      <td>1.960849</td>\n",
       "      <td>0.000000</td>\n",
       "      <td>0.000000</td>\n",
       "      <td>0.000000</td>\n",
       "      <td>0.000000</td>\n",
       "      <td>0.000000</td>\n",
       "      <td>...</td>\n",
       "      <td>1.000000</td>\n",
       "      <td>1.000000</td>\n",
       "      <td>1.000000</td>\n",
       "      <td>0.000000</td>\n",
       "      <td>0.000000</td>\n",
       "      <td>0.000000</td>\n",
       "      <td>0.000000</td>\n",
       "      <td>0.000000</td>\n",
       "      <td>0.000000</td>\n",
       "      <td>0.000210</td>\n",
       "    </tr>\n",
       "    <tr>\n",
       "      <th>25%</th>\n",
       "      <td>3.000000</td>\n",
       "      <td>72.458076</td>\n",
       "      <td>52.143839</td>\n",
       "      <td>58.041225</td>\n",
       "      <td>35.248990</td>\n",
       "      <td>0.966676</td>\n",
       "      <td>0.775363</td>\n",
       "      <td>78.512902</td>\n",
       "      <td>16.824174</td>\n",
       "      <td>32.890369</td>\n",
       "      <td>...</td>\n",
       "      <td>2.116732</td>\n",
       "      <td>2.279705</td>\n",
       "      <td>2.091251</td>\n",
       "      <td>1.060857</td>\n",
       "      <td>0.775678</td>\n",
       "      <td>1.000000</td>\n",
       "      <td>0.921454</td>\n",
       "      <td>0.451754</td>\n",
       "      <td>0.306892</td>\n",
       "      <td>5.365000</td>\n",
       "    </tr>\n",
       "    <tr>\n",
       "      <th>50%</th>\n",
       "      <td>4.000000</td>\n",
       "      <td>84.922750</td>\n",
       "      <td>60.696571</td>\n",
       "      <td>66.361592</td>\n",
       "      <td>39.918385</td>\n",
       "      <td>1.199541</td>\n",
       "      <td>1.146783</td>\n",
       "      <td>122.906070</td>\n",
       "      <td>26.636008</td>\n",
       "      <td>45.123500</td>\n",
       "      <td>...</td>\n",
       "      <td>2.618182</td>\n",
       "      <td>2.615321</td>\n",
       "      <td>2.434057</td>\n",
       "      <td>1.368922</td>\n",
       "      <td>1.166532</td>\n",
       "      <td>2.000000</td>\n",
       "      <td>1.063077</td>\n",
       "      <td>0.800000</td>\n",
       "      <td>0.500000</td>\n",
       "      <td>20.000000</td>\n",
       "    </tr>\n",
       "    <tr>\n",
       "      <th>75%</th>\n",
       "      <td>5.000000</td>\n",
       "      <td>100.404410</td>\n",
       "      <td>86.103540</td>\n",
       "      <td>78.116681</td>\n",
       "      <td>73.113234</td>\n",
       "      <td>1.444537</td>\n",
       "      <td>1.359418</td>\n",
       "      <td>154.119320</td>\n",
       "      <td>38.356908</td>\n",
       "      <td>59.322812</td>\n",
       "      <td>...</td>\n",
       "      <td>4.026201</td>\n",
       "      <td>3.727919</td>\n",
       "      <td>3.914868</td>\n",
       "      <td>1.589027</td>\n",
       "      <td>1.330801</td>\n",
       "      <td>3.000000</td>\n",
       "      <td>1.918400</td>\n",
       "      <td>1.200000</td>\n",
       "      <td>1.020436</td>\n",
       "      <td>63.000000</td>\n",
       "    </tr>\n",
       "    <tr>\n",
       "      <th>max</th>\n",
       "      <td>9.000000</td>\n",
       "      <td>208.980400</td>\n",
       "      <td>208.980400</td>\n",
       "      <td>208.980400</td>\n",
       "      <td>208.980400</td>\n",
       "      <td>1.983797</td>\n",
       "      <td>1.958203</td>\n",
       "      <td>207.972460</td>\n",
       "      <td>205.589910</td>\n",
       "      <td>101.019700</td>\n",
       "      <td>...</td>\n",
       "      <td>7.000000</td>\n",
       "      <td>7.000000</td>\n",
       "      <td>7.000000</td>\n",
       "      <td>2.141963</td>\n",
       "      <td>1.949739</td>\n",
       "      <td>6.000000</td>\n",
       "      <td>6.992200</td>\n",
       "      <td>3.000000</td>\n",
       "      <td>3.000000</td>\n",
       "      <td>185.000000</td>\n",
       "    </tr>\n",
       "  </tbody>\n",
       "</table>\n",
       "<p>8 rows × 82 columns</p>\n",
       "</div>"
      ],
      "text/plain": [
       "       number_of_elements  mean_atomic_mass  wtd_mean_atomic_mass  \\\n",
       "count        21263.000000      21263.000000          21263.000000   \n",
       "mean             4.115224         87.557631             72.988310   \n",
       "std              1.439295         29.676497             33.490406   \n",
       "min              1.000000          6.941000              6.423452   \n",
       "25%              3.000000         72.458076             52.143839   \n",
       "50%              4.000000         84.922750             60.696571   \n",
       "75%              5.000000        100.404410             86.103540   \n",
       "max              9.000000        208.980400            208.980400   \n",
       "\n",
       "       gmean_atomic_mass  wtd_gmean_atomic_mass  entropy_atomic_mass  \\\n",
       "count       21263.000000           21263.000000         21263.000000   \n",
       "mean           71.290627              58.539916             1.165608   \n",
       "std            31.030272              36.651067             0.364930   \n",
       "min             5.320573               1.960849             0.000000   \n",
       "25%            58.041225              35.248990             0.966676   \n",
       "50%            66.361592              39.918385             1.199541   \n",
       "75%            78.116681              73.113234             1.444537   \n",
       "max           208.980400             208.980400             1.983797   \n",
       "\n",
       "       wtd_entropy_atomic_mass  range_atomic_mass  wtd_range_atomic_mass  \\\n",
       "count             21263.000000       21263.000000           21263.000000   \n",
       "mean                  1.063884         115.601251              33.225218   \n",
       "std                   0.401423          54.626887              26.967752   \n",
       "min                   0.000000           0.000000               0.000000   \n",
       "25%                   0.775363          78.512902              16.824174   \n",
       "50%                   1.146783         122.906070              26.636008   \n",
       "75%                   1.359418         154.119320              38.356908   \n",
       "max                   1.958203         207.972460             205.589910   \n",
       "\n",
       "       std_atomic_mass  ...  wtd_mean_Valence  gmean_Valence  \\\n",
       "count     21263.000000  ...      21263.000000   21263.000000   \n",
       "mean         44.391893  ...          3.153127       3.056536   \n",
       "std          20.035430  ...          1.191249       1.046257   \n",
       "min           0.000000  ...          1.000000       1.000000   \n",
       "25%          32.890369  ...          2.116732       2.279705   \n",
       "50%          45.123500  ...          2.618182       2.615321   \n",
       "75%          59.322812  ...          4.026201       3.727919   \n",
       "max         101.019700  ...          7.000000       7.000000   \n",
       "\n",
       "       wtd_gmean_Valence  entropy_Valence  wtd_entropy_Valence  range_Valence  \\\n",
       "count       21263.000000     21263.000000         21263.000000   21263.000000   \n",
       "mean            3.055885         1.295682             1.052841       2.041010   \n",
       "std             1.174815         0.393155             0.380291       1.242345   \n",
       "min             1.000000         0.000000             0.000000       0.000000   \n",
       "25%             2.091251         1.060857             0.775678       1.000000   \n",
       "50%             2.434057         1.368922             1.166532       2.000000   \n",
       "75%             3.914868         1.589027             1.330801       3.000000   \n",
       "max             7.000000         2.141963             1.949739       6.000000   \n",
       "\n",
       "       wtd_range_Valence   std_Valence  wtd_std_Valence  critical_temp  \n",
       "count       21263.000000  21263.000000     21263.000000   21263.000000  \n",
       "mean            1.483007      0.839342         0.673987      34.421219  \n",
       "std             0.978176      0.484676         0.455580      34.254362  \n",
       "min             0.000000      0.000000         0.000000       0.000210  \n",
       "25%             0.921454      0.451754         0.306892       5.365000  \n",
       "50%             1.063077      0.800000         0.500000      20.000000  \n",
       "75%             1.918400      1.200000         1.020436      63.000000  \n",
       "max             6.992200      3.000000         3.000000     185.000000  \n",
       "\n",
       "[8 rows x 82 columns]"
      ]
     },
     "execution_count": 3,
     "metadata": {},
     "output_type": "execute_result"
    }
   ],
   "source": [
    "dataset.describe()"
   ]
  },
  {
   "cell_type": "code",
   "execution_count": 4,
   "metadata": {},
   "outputs": [
    {
     "data": {
      "text/html": [
       "<div>\n",
       "<style scoped>\n",
       "    .dataframe tbody tr th:only-of-type {\n",
       "        vertical-align: middle;\n",
       "    }\n",
       "\n",
       "    .dataframe tbody tr th {\n",
       "        vertical-align: top;\n",
       "    }\n",
       "\n",
       "    .dataframe thead th {\n",
       "        text-align: right;\n",
       "    }\n",
       "</style>\n",
       "<table border=\"1\" class=\"dataframe\">\n",
       "  <thead>\n",
       "    <tr style=\"text-align: right;\">\n",
       "      <th></th>\n",
       "      <th>H</th>\n",
       "      <th>He</th>\n",
       "      <th>Li</th>\n",
       "      <th>Be</th>\n",
       "      <th>B</th>\n",
       "      <th>C</th>\n",
       "      <th>N</th>\n",
       "      <th>O</th>\n",
       "      <th>F</th>\n",
       "      <th>Ne</th>\n",
       "      <th>...</th>\n",
       "      <th>Pt</th>\n",
       "      <th>Au</th>\n",
       "      <th>Hg</th>\n",
       "      <th>Tl</th>\n",
       "      <th>Pb</th>\n",
       "      <th>Bi</th>\n",
       "      <th>Po</th>\n",
       "      <th>At</th>\n",
       "      <th>Rn</th>\n",
       "      <th>critical_temp</th>\n",
       "    </tr>\n",
       "  </thead>\n",
       "  <tbody>\n",
       "    <tr>\n",
       "      <th>count</th>\n",
       "      <td>21263.000000</td>\n",
       "      <td>21263.0</td>\n",
       "      <td>21263.000000</td>\n",
       "      <td>21263.000000</td>\n",
       "      <td>21263.000000</td>\n",
       "      <td>21263.000000</td>\n",
       "      <td>21263.000000</td>\n",
       "      <td>21263.000000</td>\n",
       "      <td>21263.000000</td>\n",
       "      <td>21263.0</td>\n",
       "      <td>...</td>\n",
       "      <td>21263.000000</td>\n",
       "      <td>21263.000000</td>\n",
       "      <td>21263.000000</td>\n",
       "      <td>21263.000000</td>\n",
       "      <td>21263.000000</td>\n",
       "      <td>21263.000000</td>\n",
       "      <td>21263.0</td>\n",
       "      <td>21263.0</td>\n",
       "      <td>21263.0</td>\n",
       "      <td>21263.000000</td>\n",
       "    </tr>\n",
       "    <tr>\n",
       "      <th>mean</th>\n",
       "      <td>0.017685</td>\n",
       "      <td>0.0</td>\n",
       "      <td>0.012125</td>\n",
       "      <td>0.034638</td>\n",
       "      <td>0.142594</td>\n",
       "      <td>0.384968</td>\n",
       "      <td>0.013284</td>\n",
       "      <td>3.009129</td>\n",
       "      <td>0.014874</td>\n",
       "      <td>0.0</td>\n",
       "      <td>...</td>\n",
       "      <td>0.034108</td>\n",
       "      <td>0.020535</td>\n",
       "      <td>0.036663</td>\n",
       "      <td>0.047954</td>\n",
       "      <td>0.042461</td>\n",
       "      <td>0.201009</td>\n",
       "      <td>0.0</td>\n",
       "      <td>0.0</td>\n",
       "      <td>0.0</td>\n",
       "      <td>34.421219</td>\n",
       "    </tr>\n",
       "    <tr>\n",
       "      <th>std</th>\n",
       "      <td>0.267220</td>\n",
       "      <td>0.0</td>\n",
       "      <td>0.129552</td>\n",
       "      <td>0.848541</td>\n",
       "      <td>1.044486</td>\n",
       "      <td>4.408032</td>\n",
       "      <td>0.150427</td>\n",
       "      <td>3.811649</td>\n",
       "      <td>0.132119</td>\n",
       "      <td>0.0</td>\n",
       "      <td>...</td>\n",
       "      <td>0.307888</td>\n",
       "      <td>0.717975</td>\n",
       "      <td>0.205846</td>\n",
       "      <td>0.272298</td>\n",
       "      <td>0.274365</td>\n",
       "      <td>0.655927</td>\n",
       "      <td>0.0</td>\n",
       "      <td>0.0</td>\n",
       "      <td>0.0</td>\n",
       "      <td>34.254362</td>\n",
       "    </tr>\n",
       "    <tr>\n",
       "      <th>min</th>\n",
       "      <td>0.000000</td>\n",
       "      <td>0.0</td>\n",
       "      <td>0.000000</td>\n",
       "      <td>0.000000</td>\n",
       "      <td>0.000000</td>\n",
       "      <td>0.000000</td>\n",
       "      <td>0.000000</td>\n",
       "      <td>0.000000</td>\n",
       "      <td>0.000000</td>\n",
       "      <td>0.0</td>\n",
       "      <td>...</td>\n",
       "      <td>0.000000</td>\n",
       "      <td>0.000000</td>\n",
       "      <td>0.000000</td>\n",
       "      <td>0.000000</td>\n",
       "      <td>0.000000</td>\n",
       "      <td>0.000000</td>\n",
       "      <td>0.0</td>\n",
       "      <td>0.0</td>\n",
       "      <td>0.0</td>\n",
       "      <td>0.000210</td>\n",
       "    </tr>\n",
       "    <tr>\n",
       "      <th>25%</th>\n",
       "      <td>0.000000</td>\n",
       "      <td>0.0</td>\n",
       "      <td>0.000000</td>\n",
       "      <td>0.000000</td>\n",
       "      <td>0.000000</td>\n",
       "      <td>0.000000</td>\n",
       "      <td>0.000000</td>\n",
       "      <td>0.000000</td>\n",
       "      <td>0.000000</td>\n",
       "      <td>0.0</td>\n",
       "      <td>...</td>\n",
       "      <td>0.000000</td>\n",
       "      <td>0.000000</td>\n",
       "      <td>0.000000</td>\n",
       "      <td>0.000000</td>\n",
       "      <td>0.000000</td>\n",
       "      <td>0.000000</td>\n",
       "      <td>0.0</td>\n",
       "      <td>0.0</td>\n",
       "      <td>0.0</td>\n",
       "      <td>5.365000</td>\n",
       "    </tr>\n",
       "    <tr>\n",
       "      <th>50%</th>\n",
       "      <td>0.000000</td>\n",
       "      <td>0.0</td>\n",
       "      <td>0.000000</td>\n",
       "      <td>0.000000</td>\n",
       "      <td>0.000000</td>\n",
       "      <td>0.000000</td>\n",
       "      <td>0.000000</td>\n",
       "      <td>1.000000</td>\n",
       "      <td>0.000000</td>\n",
       "      <td>0.0</td>\n",
       "      <td>...</td>\n",
       "      <td>0.000000</td>\n",
       "      <td>0.000000</td>\n",
       "      <td>0.000000</td>\n",
       "      <td>0.000000</td>\n",
       "      <td>0.000000</td>\n",
       "      <td>0.000000</td>\n",
       "      <td>0.0</td>\n",
       "      <td>0.0</td>\n",
       "      <td>0.0</td>\n",
       "      <td>20.000000</td>\n",
       "    </tr>\n",
       "    <tr>\n",
       "      <th>75%</th>\n",
       "      <td>0.000000</td>\n",
       "      <td>0.0</td>\n",
       "      <td>0.000000</td>\n",
       "      <td>0.000000</td>\n",
       "      <td>0.000000</td>\n",
       "      <td>0.000000</td>\n",
       "      <td>0.000000</td>\n",
       "      <td>6.800000</td>\n",
       "      <td>0.000000</td>\n",
       "      <td>0.0</td>\n",
       "      <td>...</td>\n",
       "      <td>0.000000</td>\n",
       "      <td>0.000000</td>\n",
       "      <td>0.000000</td>\n",
       "      <td>0.000000</td>\n",
       "      <td>0.000000</td>\n",
       "      <td>0.000000</td>\n",
       "      <td>0.0</td>\n",
       "      <td>0.0</td>\n",
       "      <td>0.0</td>\n",
       "      <td>63.000000</td>\n",
       "    </tr>\n",
       "    <tr>\n",
       "      <th>max</th>\n",
       "      <td>14.000000</td>\n",
       "      <td>0.0</td>\n",
       "      <td>3.000000</td>\n",
       "      <td>40.000000</td>\n",
       "      <td>105.000000</td>\n",
       "      <td>120.000000</td>\n",
       "      <td>12.800000</td>\n",
       "      <td>66.000000</td>\n",
       "      <td>4.000000</td>\n",
       "      <td>0.0</td>\n",
       "      <td>...</td>\n",
       "      <td>5.800000</td>\n",
       "      <td>64.000000</td>\n",
       "      <td>8.000000</td>\n",
       "      <td>7.000000</td>\n",
       "      <td>19.000000</td>\n",
       "      <td>14.000000</td>\n",
       "      <td>0.0</td>\n",
       "      <td>0.0</td>\n",
       "      <td>0.0</td>\n",
       "      <td>185.000000</td>\n",
       "    </tr>\n",
       "  </tbody>\n",
       "</table>\n",
       "<p>8 rows × 87 columns</p>\n",
       "</div>"
      ],
      "text/plain": [
       "                  H       He            Li            Be             B  \\\n",
       "count  21263.000000  21263.0  21263.000000  21263.000000  21263.000000   \n",
       "mean       0.017685      0.0      0.012125      0.034638      0.142594   \n",
       "std        0.267220      0.0      0.129552      0.848541      1.044486   \n",
       "min        0.000000      0.0      0.000000      0.000000      0.000000   \n",
       "25%        0.000000      0.0      0.000000      0.000000      0.000000   \n",
       "50%        0.000000      0.0      0.000000      0.000000      0.000000   \n",
       "75%        0.000000      0.0      0.000000      0.000000      0.000000   \n",
       "max       14.000000      0.0      3.000000     40.000000    105.000000   \n",
       "\n",
       "                  C             N             O             F       Ne  ...  \\\n",
       "count  21263.000000  21263.000000  21263.000000  21263.000000  21263.0  ...   \n",
       "mean       0.384968      0.013284      3.009129      0.014874      0.0  ...   \n",
       "std        4.408032      0.150427      3.811649      0.132119      0.0  ...   \n",
       "min        0.000000      0.000000      0.000000      0.000000      0.0  ...   \n",
       "25%        0.000000      0.000000      0.000000      0.000000      0.0  ...   \n",
       "50%        0.000000      0.000000      1.000000      0.000000      0.0  ...   \n",
       "75%        0.000000      0.000000      6.800000      0.000000      0.0  ...   \n",
       "max      120.000000     12.800000     66.000000      4.000000      0.0  ...   \n",
       "\n",
       "                 Pt            Au            Hg            Tl            Pb  \\\n",
       "count  21263.000000  21263.000000  21263.000000  21263.000000  21263.000000   \n",
       "mean       0.034108      0.020535      0.036663      0.047954      0.042461   \n",
       "std        0.307888      0.717975      0.205846      0.272298      0.274365   \n",
       "min        0.000000      0.000000      0.000000      0.000000      0.000000   \n",
       "25%        0.000000      0.000000      0.000000      0.000000      0.000000   \n",
       "50%        0.000000      0.000000      0.000000      0.000000      0.000000   \n",
       "75%        0.000000      0.000000      0.000000      0.000000      0.000000   \n",
       "max        5.800000     64.000000      8.000000      7.000000     19.000000   \n",
       "\n",
       "                 Bi       Po       At       Rn  critical_temp  \n",
       "count  21263.000000  21263.0  21263.0  21263.0   21263.000000  \n",
       "mean       0.201009      0.0      0.0      0.0      34.421219  \n",
       "std        0.655927      0.0      0.0      0.0      34.254362  \n",
       "min        0.000000      0.0      0.0      0.0       0.000210  \n",
       "25%        0.000000      0.0      0.0      0.0       5.365000  \n",
       "50%        0.000000      0.0      0.0      0.0      20.000000  \n",
       "75%        0.000000      0.0      0.0      0.0      63.000000  \n",
       "max       14.000000      0.0      0.0      0.0     185.000000  \n",
       "\n",
       "[8 rows x 87 columns]"
      ]
     },
     "execution_count": 4,
     "metadata": {},
     "output_type": "execute_result"
    }
   ],
   "source": [
    "formula.describe()"
   ]
  },
  {
   "cell_type": "markdown",
   "metadata": {},
   "source": [
    "Check if the two datsets have same number of cases."
   ]
  },
  {
   "cell_type": "code",
   "execution_count": 5,
   "metadata": {},
   "outputs": [
    {
     "data": {
      "text/plain": [
       "True"
      ]
     },
     "execution_count": 5,
     "metadata": {},
     "output_type": "execute_result"
    }
   ],
   "source": [
    "dataset.shape[0] == formula.shape[0]"
   ]
  },
  {
   "cell_type": "code",
   "execution_count": 6,
   "metadata": {},
   "outputs": [
    {
     "data": {
      "text/plain": [
       "Index(['number_of_elements', 'mean_atomic_mass', 'wtd_mean_atomic_mass',\n",
       "       'gmean_atomic_mass', 'wtd_gmean_atomic_mass', 'entropy_atomic_mass',\n",
       "       'wtd_entropy_atomic_mass', 'range_atomic_mass', 'wtd_range_atomic_mass',\n",
       "       'std_atomic_mass', 'wtd_std_atomic_mass', 'mean_fie', 'wtd_mean_fie',\n",
       "       'gmean_fie', 'wtd_gmean_fie', 'entropy_fie', 'wtd_entropy_fie',\n",
       "       'range_fie', 'wtd_range_fie', 'std_fie', 'wtd_std_fie',\n",
       "       'mean_atomic_radius', 'wtd_mean_atomic_radius', 'gmean_atomic_radius',\n",
       "       'wtd_gmean_atomic_radius', 'entropy_atomic_radius',\n",
       "       'wtd_entropy_atomic_radius', 'range_atomic_radius',\n",
       "       'wtd_range_atomic_radius', 'std_atomic_radius', 'wtd_std_atomic_radius',\n",
       "       'mean_Density', 'wtd_mean_Density', 'gmean_Density',\n",
       "       'wtd_gmean_Density', 'entropy_Density', 'wtd_entropy_Density',\n",
       "       'range_Density', 'wtd_range_Density', 'std_Density', 'wtd_std_Density',\n",
       "       'mean_ElectronAffinity', 'wtd_mean_ElectronAffinity',\n",
       "       'gmean_ElectronAffinity', 'wtd_gmean_ElectronAffinity',\n",
       "       'entropy_ElectronAffinity', 'wtd_entropy_ElectronAffinity',\n",
       "       'range_ElectronAffinity', 'wtd_range_ElectronAffinity',\n",
       "       'std_ElectronAffinity', 'wtd_std_ElectronAffinity', 'mean_FusionHeat',\n",
       "       'wtd_mean_FusionHeat', 'gmean_FusionHeat', 'wtd_gmean_FusionHeat',\n",
       "       'entropy_FusionHeat', 'wtd_entropy_FusionHeat', 'range_FusionHeat',\n",
       "       'wtd_range_FusionHeat', 'std_FusionHeat', 'wtd_std_FusionHeat',\n",
       "       'mean_ThermalConductivity', 'wtd_mean_ThermalConductivity',\n",
       "       'gmean_ThermalConductivity', 'wtd_gmean_ThermalConductivity',\n",
       "       'entropy_ThermalConductivity', 'wtd_entropy_ThermalConductivity',\n",
       "       'range_ThermalConductivity', 'wtd_range_ThermalConductivity',\n",
       "       'std_ThermalConductivity', 'wtd_std_ThermalConductivity',\n",
       "       'mean_Valence', 'wtd_mean_Valence', 'gmean_Valence',\n",
       "       'wtd_gmean_Valence', 'entropy_Valence', 'wtd_entropy_Valence',\n",
       "       'range_Valence', 'wtd_range_Valence', 'std_Valence', 'wtd_std_Valence',\n",
       "       'critical_temp'],\n",
       "      dtype='object')"
      ]
     },
     "execution_count": 6,
     "metadata": {},
     "output_type": "execute_result"
    }
   ],
   "source": [
    "dataset.columns"
   ]
  },
  {
   "cell_type": "code",
   "execution_count": 7,
   "metadata": {},
   "outputs": [
    {
     "data": {
      "text/plain": [
       "number_of_elements         int64\n",
       "mean_atomic_mass         float64\n",
       "wtd_mean_atomic_mass     float64\n",
       "gmean_atomic_mass        float64\n",
       "wtd_gmean_atomic_mass    float64\n",
       "                          ...   \n",
       "range_Valence              int64\n",
       "wtd_range_Valence        float64\n",
       "std_Valence              float64\n",
       "wtd_std_Valence          float64\n",
       "critical_temp            float64\n",
       "Length: 82, dtype: object"
      ]
     },
     "execution_count": 7,
     "metadata": {},
     "output_type": "execute_result"
    }
   ],
   "source": [
    "dataset.dtypes"
   ]
  },
  {
   "cell_type": "markdown",
   "metadata": {},
   "source": [
    "Save basic info into csv file\n"
   ]
  },
  {
   "cell_type": "code",
   "execution_count": 8,
   "metadata": {},
   "outputs": [
    {
     "data": {
      "text/html": [
       "<div>\n",
       "<style scoped>\n",
       "    .dataframe tbody tr th:only-of-type {\n",
       "        vertical-align: middle;\n",
       "    }\n",
       "\n",
       "    .dataframe tbody tr th {\n",
       "        vertical-align: top;\n",
       "    }\n",
       "\n",
       "    .dataframe thead th {\n",
       "        text-align: right;\n",
       "    }\n",
       "</style>\n",
       "<table border=\"1\" class=\"dataframe\">\n",
       "  <thead>\n",
       "    <tr style=\"text-align: right;\">\n",
       "      <th></th>\n",
       "      <th>Ind</th>\n",
       "      <th>Column Name</th>\n",
       "      <th>Data Type</th>\n",
       "    </tr>\n",
       "  </thead>\n",
       "  <tbody>\n",
       "    <tr>\n",
       "      <th>number_of_elements</th>\n",
       "      <td>0</td>\n",
       "      <td>number_of_elements</td>\n",
       "      <td>int64</td>\n",
       "    </tr>\n",
       "    <tr>\n",
       "      <th>mean_atomic_mass</th>\n",
       "      <td>1</td>\n",
       "      <td>mean_atomic_mass</td>\n",
       "      <td>float64</td>\n",
       "    </tr>\n",
       "    <tr>\n",
       "      <th>wtd_mean_atomic_mass</th>\n",
       "      <td>2</td>\n",
       "      <td>wtd_mean_atomic_mass</td>\n",
       "      <td>float64</td>\n",
       "    </tr>\n",
       "    <tr>\n",
       "      <th>gmean_atomic_mass</th>\n",
       "      <td>3</td>\n",
       "      <td>gmean_atomic_mass</td>\n",
       "      <td>float64</td>\n",
       "    </tr>\n",
       "    <tr>\n",
       "      <th>wtd_gmean_atomic_mass</th>\n",
       "      <td>4</td>\n",
       "      <td>wtd_gmean_atomic_mass</td>\n",
       "      <td>float64</td>\n",
       "    </tr>\n",
       "  </tbody>\n",
       "</table>\n",
       "</div>"
      ],
      "text/plain": [
       "                       Ind            Column Name Data Type\n",
       "number_of_elements       0     number_of_elements     int64\n",
       "mean_atomic_mass         1       mean_atomic_mass   float64\n",
       "wtd_mean_atomic_mass     2   wtd_mean_atomic_mass   float64\n",
       "gmean_atomic_mass        3      gmean_atomic_mass   float64\n",
       "wtd_gmean_atomic_mass    4  wtd_gmean_atomic_mass   float64"
      ]
     },
     "execution_count": 8,
     "metadata": {},
     "output_type": "execute_result"
    }
   ],
   "source": [
    "dataset_summary = {\n",
    "    'Ind': list(range(dataset.shape[1])),\n",
    "    'Column Name': dataset.columns,\n",
    "    'Data Type': dataset.dtypes}\n",
    "d_summary = pd.DataFrame(data = dataset_summary)\n",
    "d_summary.head()\n",
    "\n",
    "# d_summary.to_csv('ColumnSummary.csv',index=False)"
   ]
  },
  {
   "cell_type": "markdown",
   "metadata": {},
   "source": [
    "#### EDA\n",
    "1. Check null values for each column. No null values exist in the given dataset.\n",
    "2. Check if the target variable ['critical_temp'] has a patterned distribution.\n",
    "3. Explore the similarity between columns with similiar functions. \n",
    "4. Check if multi-collinearity exists."
   ]
  },
  {
   "cell_type": "code",
   "execution_count": 9,
   "metadata": {},
   "outputs": [],
   "source": [
    "null_list = {}\n",
    "for i in dataset.columns:\n",
    "    null_list[i] = dataset[i].isnull().sum()\n",
    "    if null_list[i] != 0:\n",
    "        print(null_list[i])"
   ]
  },
  {
   "cell_type": "code",
   "execution_count": 10,
   "metadata": {},
   "outputs": [
    {
     "data": {
      "text/plain": [
       "Index(['H', 'He', 'Li', 'Be', 'B', 'C', 'N', 'O', 'F', 'Ne', 'Na', 'Mg', 'Al',\n",
       "       'Si', 'P', 'S', 'Cl', 'Ar', 'K', 'Ca', 'Sc', 'Ti', 'V', 'Cr', 'Mn',\n",
       "       'Fe', 'Co', 'Ni', 'Cu', 'Zn', 'Ga', 'Ge', 'As', 'Se', 'Br', 'Kr', 'Rb',\n",
       "       'Sr', 'Y', 'Zr', 'Nb', 'Mo', 'Tc', 'Ru', 'Rh', 'Pd', 'Ag', 'Cd', 'In',\n",
       "       'Sn', 'Sb', 'Te', 'I', 'Xe', 'Cs', 'Ba', 'La', 'Ce', 'Pr', 'Nd', 'Pm',\n",
       "       'Sm', 'Eu', 'Gd', 'Tb', 'Dy', 'Ho', 'Er', 'Tm', 'Yb', 'Lu', 'Hf', 'Ta',\n",
       "       'W', 'Re', 'Os', 'Ir', 'Pt', 'Au', 'Hg', 'Tl', 'Pb', 'Bi', 'Po', 'At',\n",
       "       'Rn', 'critical_temp', 'material'],\n",
       "      dtype='object')"
      ]
     },
     "execution_count": 10,
     "metadata": {},
     "output_type": "execute_result"
    }
   ],
   "source": [
    "element = formula.columns\n",
    "element"
   ]
  },
  {
   "cell_type": "code",
   "execution_count": 11,
   "metadata": {},
   "outputs": [
    {
     "data": {
      "text/plain": [
       "(21263, 81)"
      ]
     },
     "execution_count": 11,
     "metadata": {},
     "output_type": "execute_result"
    }
   ],
   "source": [
    "y = dataset[\"critical_temp\"]\n",
    "x = dataset.iloc[:,0:dataset.shape[1]-1]\n",
    "x.shape"
   ]
  },
  {
   "cell_type": "markdown",
   "metadata": {},
   "source": [
    "Check if key variables are normally distributed.\n",
    "\n",
    "Following figures shows that the values are not normally distributed, especially for critical temperature. Most of the critical temperature (Y) are low to almost 0K, which is the absolute temperature. As we are looking for the high critical temperature opportunities, we will focus on high critical temperature examples."
   ]
  },
  {
   "cell_type": "code",
   "execution_count": 12,
   "metadata": {},
   "outputs": [
    {
     "name": "stderr",
     "output_type": "stream",
     "text": [
      "c:\\Users\\youyu\\AppData\\Local\\Programs\\Python\\Python38\\lib\\site-packages\\seaborn\\distributions.py:2619: FutureWarning: `distplot` is a deprecated function and will be removed in a future version. Please adapt your code to use either `displot` (a figure-level function with similar flexibility) or `histplot` (an axes-level function for histograms).\n",
      "  warnings.warn(msg, FutureWarning)\n",
      "c:\\Users\\youyu\\AppData\\Local\\Programs\\Python\\Python38\\lib\\site-packages\\seaborn\\distributions.py:2619: FutureWarning: `distplot` is a deprecated function and will be removed in a future version. Please adapt your code to use either `displot` (a figure-level function with similar flexibility) or `histplot` (an axes-level function for histograms).\n",
      "  warnings.warn(msg, FutureWarning)\n",
      "c:\\Users\\youyu\\AppData\\Local\\Programs\\Python\\Python38\\lib\\site-packages\\seaborn\\distributions.py:2619: FutureWarning: `distplot` is a deprecated function and will be removed in a future version. Please adapt your code to use either `displot` (a figure-level function with similar flexibility) or `histplot` (an axes-level function for histograms).\n",
      "  warnings.warn(msg, FutureWarning)\n",
      "c:\\Users\\youyu\\AppData\\Local\\Programs\\Python\\Python38\\lib\\site-packages\\seaborn\\distributions.py:2619: FutureWarning: `distplot` is a deprecated function and will be removed in a future version. Please adapt your code to use either `displot` (a figure-level function with similar flexibility) or `histplot` (an axes-level function for histograms).\n",
      "  warnings.warn(msg, FutureWarning)\n"
     ]
    },
    {
     "data": {
      "text/plain": [
       "Text(0.5, 1.0, 'wtd_mean_FusionHeat')"
      ]
     },
     "execution_count": 12,
     "metadata": {},
     "output_type": "execute_result"
    },
    {
     "data": {
      "image/png": "[encoded data removed]",
      "text/plain": [
       "<Figure size 1008x360 with 4 Axes>"
      ]
     },
     "metadata": {
      "needs_background": "light"
     },
     "output_type": "display_data"
    }
   ],
   "source": [
    "fig, axes = plt.subplots(1, 4, sharex=True, figsize=(14,5))\n",
    "fig.suptitle('EDA - Variable Distribution')\n",
    "\n",
    "sns.distplot(ax=axes[0],a=y)\n",
    "axes[0].set_title(\"Critical Temperature Dist (K)\")\n",
    "sns.distplot(ax=axes[1],a=x['wtd_mean_atomic_mass'])\n",
    "axes[1].set_title(\"wtd_mean_atomic_mass\")\n",
    "sns.distplot(ax=axes[2],a=x['wtd_entropy_atomic_mass'])\n",
    "axes[2].set_title(\"wtd_entropy_atomic_mass\")\n",
    "sns.distplot(ax=axes[3],a=x['wtd_mean_FusionHeat'])\n",
    "axes[3].set_title(\"wtd_mean_FusionHeat\")"
   ]
  },
  {
   "cell_type": "code",
   "execution_count": 94,
   "metadata": {},
   "outputs": [
    {
     "data": {
      "text/plain": [
       "0        0.437059\n",
       "1        0.468606\n",
       "2        0.444697\n",
       "3        0.440952\n",
       "4        0.428809\n",
       "           ...   \n",
       "21258    0.496904\n",
       "21259    0.212959\n",
       "21260    0.400000\n",
       "21261    0.462493\n",
       "21262    1.500000\n",
       "Name: wtd_std_Valence, Length: 21263, dtype: float64"
      ]
     },
     "execution_count": 94,
     "metadata": {},
     "output_type": "execute_result"
    }
   ],
   "source": [
    "x['wtd_std_Valence']"
   ]
  },
  {
   "cell_type": "markdown",
   "metadata": {},
   "source": [
    "Although the column names looks alike, the values are not 100% linearly related. Following figures indicated the differences between similiar features."
   ]
  },
  {
   "cell_type": "code",
   "execution_count": 13,
   "metadata": {},
   "outputs": [
    {
     "data": {
      "image/png": "[encoded data removed]",
      "text/plain": [
       "<Figure size 432x288 with 1 Axes>"
      ]
     },
     "metadata": {
      "needs_background": "light"
     },
     "output_type": "display_data"
    }
   ],
   "source": [
    "plt.scatter(x['mean_fie'],x['wtd_mean_fie'])\n",
    "plt.title('Relationships between Variables')\n",
    "plt.xlabel('mean_fie')\n",
    "plt.ylabel('wtd_mean_fie')\n",
    "plt.show()"
   ]
  },
  {
   "cell_type": "code",
   "execution_count": 14,
   "metadata": {},
   "outputs": [
    {
     "data": {
      "image/png": "[encoded data removed]",
      "text/plain": [
       "<Figure size 432x288 with 1 Axes>"
      ]
     },
     "metadata": {
      "needs_background": "light"
     },
     "output_type": "display_data"
    }
   ],
   "source": [
    "plt.scatter(x['mean_atomic_radius'],x['wtd_mean_atomic_radius'])\n",
    "plt.title('Relationships between Variables')\n",
    "plt.xlabel('mean_atomic_radius')\n",
    "plt.ylabel('wtd_mean_atomic_radius')\n",
    "plt.show()"
   ]
  },
  {
   "cell_type": "code",
   "execution_count": 15,
   "metadata": {},
   "outputs": [
    {
     "data": {
      "image/png": "[encoded data removed]",
      "text/plain": [
       "<Figure size 432x288 with 1 Axes>"
      ]
     },
     "metadata": {
      "needs_background": "light"
     },
     "output_type": "display_data"
    }
   ],
   "source": [
    "plt.scatter(x['mean_atomic_radius'],x['gmean_atomic_radius'])\n",
    "plt.title('Relationships between Variables')\n",
    "plt.xlabel('mean_atomic_radius')\n",
    "plt.ylabel('gmean_atomic_radius')\n",
    "plt.show()"
   ]
  },
  {
   "cell_type": "markdown",
   "metadata": {},
   "source": [
    "The atomic radius and density relationship is illustrated below. For smaller atoms, the radius and density are positive related. Meanwhile for larger atoms, the radius and density form a negative relationship. And the highest density atoms usually has atomic radius around 180. "
   ]
  },
  {
   "cell_type": "code",
   "execution_count": 16,
   "metadata": {},
   "outputs": [
    {
     "data": {
      "image/png": "[encoded data removed]",
      "text/plain": [
       "<Figure size 432x288 with 1 Axes>"
      ]
     },
     "metadata": {
      "needs_background": "light"
     },
     "output_type": "display_data"
    }
   ],
   "source": [
    "plt.scatter(x['mean_atomic_radius'],x['mean_Density'])\n",
    "plt.title('Relationships between Variables')\n",
    "plt.xlabel('mean_atomic_radius')\n",
    "plt.ylabel('mean_Density')\n",
    "plt.show()"
   ]
  },
  {
   "cell_type": "markdown",
   "metadata": {},
   "source": [
    "The standard deviation of atomic mass and critical temperature (Y) do not have any obvious relationship."
   ]
  },
  {
   "cell_type": "code",
   "execution_count": 17,
   "metadata": {},
   "outputs": [
    {
     "data": {
      "image/png": "[encoded data removed]",
      "text/plain": [
       "<Figure size 432x288 with 1 Axes>"
      ]
     },
     "metadata": {
      "needs_background": "light"
     },
     "output_type": "display_data"
    }
   ],
   "source": [
    "plt.scatter(x['std_atomic_mass'],y)\n",
    "plt.title('Relationships between Variables')\n",
    "plt.xlabel('std_atomic_mass')\n",
    "plt.ylabel('Critical Temperature')\n",
    "plt.show()"
   ]
  },
  {
   "cell_type": "code",
   "execution_count": 18,
   "metadata": {},
   "outputs": [
    {
     "data": {
      "image/png": "[encoded data removed]",
      "text/plain": [
       "<Figure size 432x288 with 1 Axes>"
      ]
     },
     "metadata": {
      "needs_background": "light"
     },
     "output_type": "display_data"
    }
   ],
   "source": [
    "plt.scatter(x['wtd_std_ThermalConductivity'],y)\n",
    "plt.title('Relationships between Variables')\n",
    "plt.xlabel('wtd_std_ThermalConductivity')\n",
    "plt.ylabel('Critical Temp')\n",
    "plt.show()"
   ]
  },
  {
   "cell_type": "markdown",
   "metadata": {},
   "source": [
    "The plot above indicated that the critical temperature (Y) is not normally distributed."
   ]
  },
  {
   "cell_type": "code",
   "execution_count": 19,
   "metadata": {},
   "outputs": [
    {
     "data": {
      "image/png": "[encoded data removed]",
      "text/plain": [
       "<Figure size 1080x792 with 2 Axes>"
      ]
     },
     "metadata": {
      "needs_background": "light"
     },
     "output_type": "display_data"
    }
   ],
   "source": [
    "plt.figure(figsize=(15,11))\n",
    "sns.heatmap(x.corr())\n",
    "plt.title('Correlation Coefficient Of Predictors')\n",
    "plt.show()"
   ]
  },
  {
   "cell_type": "markdown",
   "metadata": {},
   "source": [
    "From the plot above we can see that some of the variables are linearly correlated. Those repetitive columns do not need to be removed because they will not affect the modeling part."
   ]
  },
  {
   "cell_type": "markdown",
   "metadata": {},
   "source": [
    "### Modeling and Feature Selection\n",
    "\n",
    "First method is Lasso regression, which both result continuous prediction and works well on feature selection. "
   ]
  },
  {
   "cell_type": "markdown",
   "metadata": {},
   "source": [
    "#### Lasso Regression"
   ]
  },
  {
   "cell_type": "code",
   "execution_count": 20,
   "metadata": {},
   "outputs": [],
   "source": [
    "# Add penalty part for linear regression, ridge and lasso. \n",
    "# Thos class would be called inside the linear regression. \n",
    "class Linear:\n",
    "    def __init__(self, alpha):\n",
    "        self.a = alpha\n",
    "    def cost(self,w):\n",
    "        return 0\n",
    "    def derivation(self, w):\n",
    "        return 0\n",
    "        \n",
    "class RidgePenalty: \n",
    "    \"\"\"   \n",
    "    This class defines ridge regression penalty, which make it different than lasso. \n",
    "    \"\"\"\n",
    "    def __init__(self, alpha):\n",
    "        self.a = alpha\n",
    "    def cost(self, w):\n",
    "        return self.a*np.sum(np.square(w))\n",
    "    def derivation(self, w):\n",
    "        return 2*self.a*w\n",
    "\n",
    "\n",
    "class LassoPenalty:\n",
    "    \"\"\"\n",
    "    This class defines lasso regression penalty.\n",
    "    \"\"\"\n",
    "    def __init__(self, alpha):\n",
    "        self.a = alpha\n",
    "    def cost(self,w):\n",
    "        return self.a*np.sum(np.abs(w))\n",
    "    def derivation(self, w):\n",
    "        return self.a*np.sign(w)"
   ]
  },
  {
   "cell_type": "code",
   "execution_count": 21,
   "metadata": {},
   "outputs": [],
   "source": [
    "class LinearRegression():\n",
    "    \"\"\"\n",
    "    Suggestion: scaling x before train.\n",
    "    This class is used for multivariate linear regression.\n",
    "    \"\"\"\n",
    "    def __init__(self,x:pd.DataFrame,y:pd.Series,\n",
    "                 lr:float,epo:int, alpha:float =0,\n",
    "                 regulation=Linear):\n",
    "        self.x = x\n",
    "        self.y = y\n",
    "        self.w = np.zeros(x.shape[1])\n",
    "        self.b = 0\n",
    "        self.lr = lr\n",
    "        self.epo = epo\n",
    "        self.alpha = alpha\n",
    "        self.regularization = regulation\n",
    "    \n",
    "    def loss_function(self):\n",
    "        loss = 0\n",
    "        n = len(self.y)\n",
    "        for i in range(n):\n",
    "            loss += (self.y[i]-(np.dot(self.w,self.x[i])+self.b))**2\n",
    "        return loss/2/float(n)\n",
    "    \n",
    "    def gradient_descend(self):\n",
    "        z = self.x.dot(self.w) + self.b\n",
    "        loss = z - self.y\n",
    "        \n",
    "        weight_gradient = self.x.T.dot(loss) / len(self.y)\n",
    "        bias_gradient = np.sum(loss) / len(self.y)\n",
    "        # Ridge or lasso will add this part\n",
    "        reg = self.regularization(alpha=self.alpha)\n",
    "        weight_gradient = self.x.T.dot(loss) / len(self.y)+reg.derivation(self.w)\n",
    "        # reg = self.regularization(alpha=self.alpha)\n",
    "        # weight_gradient = self.x.T.dot(loss) / len(self.y)+reg.derivation(self.w)\n",
    "\n",
    "        self.w = np.array(self.w - self.lr*weight_gradient)\n",
    "        self.b = self.b - self.lr*bias_gradient\n",
    "        return self.w, self.b\n",
    "    \n",
    "    def train(self):\n",
    "        \"\"\"\n",
    "        w: input slope trial starting point\n",
    "        b: input intersect trial starting point\n",
    "        learning rate: suggested from 0.001 to 0.05\n",
    "        epochs: suggested larger than 100\n",
    "        \"\"\"\n",
    "        cost_list = [0] * self.epo\n",
    "        for epoch in range(self.epo):\n",
    "            self.w, self.b = self.gradient_descend()\n",
    "            cost = self.loss_function()\n",
    "            cost_list[epoch] = cost\n",
    "            if (epoch%(self.epo/5)==0):\n",
    "                print(\"Cost at epoch\",epoch,\"is:\",cost)\n",
    "        print(f\"w = {self.w}, b = {self.b}\")\n",
    "        return self.w, self.b, cost_list\n",
    "\n",
    "    def predict(self,x):\n",
    "        return np.dot(x,self.w) + self.b\n"
   ]
  },
  {
   "cell_type": "markdown",
   "metadata": {},
   "source": [
    "Normalization of the data."
   ]
  },
  {
   "cell_type": "code",
   "execution_count": 22,
   "metadata": {},
   "outputs": [],
   "source": [
    "from sklearn.preprocessing import StandardScaler, Normalizer\n",
    "\n",
    "scaler = StandardScaler().fit(np.array(x))\n",
    "scaled_x = scaler.transform(x)"
   ]
  },
  {
   "cell_type": "code",
   "execution_count": 23,
   "metadata": {},
   "outputs": [
    {
     "name": "stdout",
     "output_type": "stream",
     "text": [
      "Cost at epoch 0 is: 1022.9289058057861\n",
      "Cost at epoch 200 is: 215.04868670146095\n",
      "Cost at epoch 400 is: 192.2016712778158\n",
      "Cost at epoch 600 is: 185.97877893555142\n",
      "Cost at epoch 800 is: 182.58728458635193\n",
      "w = [ 1.83637335e+00  1.05844752e+00  4.68175453e-04  6.45706183e-02\n",
      "  9.40770339e-01 -1.01872696e+00  4.46880592e+00  5.05119701e+00\n",
      " -1.92711406e+00  2.72597078e+00 -2.96073885e+00  1.09270215e+00\n",
      "  1.79538749e-04  1.55563034e+00  6.14684069e-04  8.43013013e-04\n",
      "  2.37506744e-01  1.56678496e+00  3.20913683e-04 -6.36177883e-01\n",
      " -9.43078851e-01 -1.74610679e-04  2.84669844e+00 -4.95500670e-01\n",
      "  6.51405842e-01  4.67344495e-04  2.55320356e+00  4.64478259e+00\n",
      " -2.45509859e+00  9.08048940e-01  1.42849297e+00 -2.17240009e+00\n",
      " -3.44495880e-04 -1.86267033e+00  3.15286014e-05 -1.05346173e+00\n",
      " -1.83760662e+00 -1.37786630e-01  2.14443768e+00 -2.71696345e-02\n",
      " -2.65330818e+00  1.16745977e+00  6.94214434e-01  5.02342311e-03\n",
      " -4.08452253e+00 -2.81981619e+00 -5.50840618e+00 -1.31762822e+00\n",
      " -2.00482773e+00  9.88994177e-01 -4.54311878e-03  5.81236314e-01\n",
      "  2.80757180e-03  7.80663731e-04  2.18892268e-01  9.33159028e-04\n",
      "  2.90545291e+00 -5.80961804e-01  8.37296275e-01  6.30147642e-04\n",
      " -2.90947309e+00  1.90199021e+00  6.87464818e+00 -2.08532233e+00\n",
      " -6.00245734e+00  1.99801663e+00  2.52859828e+00  1.02456610e+00\n",
      "  6.19106031e-01 -1.30636774e-03  5.97338072e+00  1.39729150e-04\n",
      " -2.58991478e-01 -8.00829614e-04 -7.14328058e-02 -8.37735775e-05\n",
      "  2.77238086e-01  3.12881406e-01  2.23671881e+00  1.40522071e-01\n",
      " -6.27873025e+00], b = 34.41973312838502\n"
     ]
    }
   ],
   "source": [
    "lasso =LinearRegression(scaled_x,np.array(y),lr=1e-2,alpha=0.1,epo=1000,regulation=LassoPenalty)\n",
    "lasso.train()\n",
    "y_pred_train = lasso.predict(scaled_x)\n",
    "cost_train = (y-y_pred_train)**2\n",
    "prediction = pd.DataFrame({\"Y\": y, \"Y_predict\": y_pred_train,\"cost\":cost_train})"
   ]
  },
  {
   "cell_type": "code",
   "execution_count": 24,
   "metadata": {},
   "outputs": [
    {
     "data": {
      "text/html": [
       "<div>\n",
       "<style scoped>\n",
       "    .dataframe tbody tr th:only-of-type {\n",
       "        vertical-align: middle;\n",
       "    }\n",
       "\n",
       "    .dataframe tbody tr th {\n",
       "        vertical-align: top;\n",
       "    }\n",
       "\n",
       "    .dataframe thead th {\n",
       "        text-align: right;\n",
       "    }\n",
       "</style>\n",
       "<table border=\"1\" class=\"dataframe\">\n",
       "  <thead>\n",
       "    <tr style=\"text-align: right;\">\n",
       "      <th></th>\n",
       "      <th>Y</th>\n",
       "      <th>Y_predict</th>\n",
       "      <th>cost</th>\n",
       "    </tr>\n",
       "  </thead>\n",
       "  <tbody>\n",
       "    <tr>\n",
       "      <th>0</th>\n",
       "      <td>29.00</td>\n",
       "      <td>39.355187</td>\n",
       "      <td>107.229898</td>\n",
       "    </tr>\n",
       "    <tr>\n",
       "      <th>1</th>\n",
       "      <td>26.00</td>\n",
       "      <td>41.458940</td>\n",
       "      <td>238.978831</td>\n",
       "    </tr>\n",
       "    <tr>\n",
       "      <th>2</th>\n",
       "      <td>19.00</td>\n",
       "      <td>36.480048</td>\n",
       "      <td>305.552068</td>\n",
       "    </tr>\n",
       "    <tr>\n",
       "      <th>3</th>\n",
       "      <td>22.00</td>\n",
       "      <td>37.985621</td>\n",
       "      <td>255.540075</td>\n",
       "    </tr>\n",
       "    <tr>\n",
       "      <th>4</th>\n",
       "      <td>23.00</td>\n",
       "      <td>41.802655</td>\n",
       "      <td>353.539818</td>\n",
       "    </tr>\n",
       "    <tr>\n",
       "      <th>...</th>\n",
       "      <td>...</td>\n",
       "      <td>...</td>\n",
       "      <td>...</td>\n",
       "    </tr>\n",
       "    <tr>\n",
       "      <th>21258</th>\n",
       "      <td>2.44</td>\n",
       "      <td>25.508538</td>\n",
       "      <td>532.157456</td>\n",
       "    </tr>\n",
       "    <tr>\n",
       "      <th>21259</th>\n",
       "      <td>122.10</td>\n",
       "      <td>85.794238</td>\n",
       "      <td>1318.108387</td>\n",
       "    </tr>\n",
       "    <tr>\n",
       "      <th>21260</th>\n",
       "      <td>1.98</td>\n",
       "      <td>-3.411208</td>\n",
       "      <td>29.065120</td>\n",
       "    </tr>\n",
       "    <tr>\n",
       "      <th>21261</th>\n",
       "      <td>1.84</td>\n",
       "      <td>-3.123802</td>\n",
       "      <td>24.639328</td>\n",
       "    </tr>\n",
       "    <tr>\n",
       "      <th>21262</th>\n",
       "      <td>12.80</td>\n",
       "      <td>0.093409</td>\n",
       "      <td>161.457465</td>\n",
       "    </tr>\n",
       "  </tbody>\n",
       "</table>\n",
       "<p>21263 rows × 3 columns</p>\n",
       "</div>"
      ],
      "text/plain": [
       "            Y  Y_predict         cost\n",
       "0       29.00  39.355187   107.229898\n",
       "1       26.00  41.458940   238.978831\n",
       "2       19.00  36.480048   305.552068\n",
       "3       22.00  37.985621   255.540075\n",
       "4       23.00  41.802655   353.539818\n",
       "...       ...        ...          ...\n",
       "21258    2.44  25.508538   532.157456\n",
       "21259  122.10  85.794238  1318.108387\n",
       "21260    1.98  -3.411208    29.065120\n",
       "21261    1.84  -3.123802    24.639328\n",
       "21262   12.80   0.093409   161.457465\n",
       "\n",
       "[21263 rows x 3 columns]"
      ]
     },
     "execution_count": 24,
     "metadata": {},
     "output_type": "execute_result"
    }
   ],
   "source": [
    "prediction"
   ]
  },
  {
   "cell_type": "code",
   "execution_count": 25,
   "metadata": {},
   "outputs": [
    {
     "data": {
      "image/png": "[encoded data removed]",
      "text/plain": [
       "<Figure size 432x288 with 1 Axes>"
      ]
     },
     "metadata": {
      "needs_background": "light"
     },
     "output_type": "display_data"
    }
   ],
   "source": [
    "plt.scatter(prediction['Y'], prediction['Y_predict'], label='Lasso')\n",
    "plt.plot(prediction['Y'], prediction['Y'], label='Perfect prediction when dots on this line')\n",
    "plt.legend(loc=\"upper left\")\n",
    "plt.title('Compare Train and Prediction')\n",
    "plt.xlabel('Target Value: True Critical Temperature (k)')\n",
    "plt.ylabel('Predicted Critical Temperature')\n",
    "plt.show()"
   ]
  },
  {
   "cell_type": "markdown",
   "metadata": {},
   "source": [
    "Feature Selection:\n",
    "\n",
    "Use Lasso model result and importance to select the appropriate features. \n",
    "\n",
    "Re-use the same model with limited features to predict the critical temperature again."
   ]
  },
  {
   "cell_type": "code",
   "execution_count": 26,
   "metadata": {},
   "outputs": [
    {
     "data": {
      "image/png": "[encoded data removed]",
      "text/plain": [
       "<Figure size 576x288 with 1 Axes>"
      ]
     },
     "metadata": {
      "needs_background": "light"
     },
     "output_type": "display_data"
    }
   ],
   "source": [
    "# Lasso Feature Importance\n",
    "\n",
    "dfX = pd.DataFrame(x,columns=x.columns)\n",
    "lassoImportantfeatures = pd.DataFrame(data={'feature': dfX.columns})\n",
    "lassoImportantfeatures[\"importance\"] = np.abs(pd.DataFrame(lasso.w))\n",
    "lassoImportantfeatures = lassoImportantfeatures.sort_values(by='importance', ascending=False)\n",
    "\n",
    "plt.figure(figsize=(8,4))\n",
    "plt.bar(x=lassoImportantfeatures['feature'].iloc[0:20], \n",
    "    height=lassoImportantfeatures['importance'].iloc[0:20], \n",
    "    color='#087E8B')\n",
    "plt.title('Feature importances - for lasso regresion')\n",
    "plt.xticks(rotation='vertical')\n",
    "plt.show()"
   ]
  },
  {
   "cell_type": "code",
   "execution_count": 27,
   "metadata": {},
   "outputs": [
    {
     "data": {
      "text/html": [
       "<div>\n",
       "<style scoped>\n",
       "    .dataframe tbody tr th:only-of-type {\n",
       "        vertical-align: middle;\n",
       "    }\n",
       "\n",
       "    .dataframe tbody tr th {\n",
       "        vertical-align: top;\n",
       "    }\n",
       "\n",
       "    .dataframe thead th {\n",
       "        text-align: right;\n",
       "    }\n",
       "</style>\n",
       "<table border=\"1\" class=\"dataframe\">\n",
       "  <thead>\n",
       "    <tr style=\"text-align: right;\">\n",
       "      <th></th>\n",
       "      <th>feature</th>\n",
       "      <th>importance</th>\n",
       "    </tr>\n",
       "  </thead>\n",
       "  <tbody>\n",
       "    <tr>\n",
       "      <th>62</th>\n",
       "      <td>wtd_mean_ThermalConductivity</td>\n",
       "      <td>6.874648</td>\n",
       "    </tr>\n",
       "    <tr>\n",
       "      <th>80</th>\n",
       "      <td>wtd_std_Valence</td>\n",
       "      <td>6.278730</td>\n",
       "    </tr>\n",
       "    <tr>\n",
       "      <th>64</th>\n",
       "      <td>wtd_gmean_ThermalConductivity</td>\n",
       "      <td>6.002457</td>\n",
       "    </tr>\n",
       "    <tr>\n",
       "      <th>70</th>\n",
       "      <td>wtd_std_ThermalConductivity</td>\n",
       "      <td>5.973381</td>\n",
       "    </tr>\n",
       "    <tr>\n",
       "      <th>46</th>\n",
       "      <td>wtd_entropy_ElectronAffinity</td>\n",
       "      <td>5.508406</td>\n",
       "    </tr>\n",
       "    <tr>\n",
       "      <th>7</th>\n",
       "      <td>range_atomic_mass</td>\n",
       "      <td>5.051197</td>\n",
       "    </tr>\n",
       "    <tr>\n",
       "      <th>27</th>\n",
       "      <td>range_atomic_radius</td>\n",
       "      <td>4.644783</td>\n",
       "    </tr>\n",
       "    <tr>\n",
       "      <th>6</th>\n",
       "      <td>wtd_entropy_atomic_mass</td>\n",
       "      <td>4.468806</td>\n",
       "    </tr>\n",
       "    <tr>\n",
       "      <th>44</th>\n",
       "      <td>wtd_gmean_ElectronAffinity</td>\n",
       "      <td>4.084523</td>\n",
       "    </tr>\n",
       "    <tr>\n",
       "      <th>10</th>\n",
       "      <td>wtd_std_atomic_mass</td>\n",
       "      <td>2.960739</td>\n",
       "    </tr>\n",
       "  </tbody>\n",
       "</table>\n",
       "</div>"
      ],
      "text/plain": [
       "                          feature  importance\n",
       "62   wtd_mean_ThermalConductivity    6.874648\n",
       "80                wtd_std_Valence    6.278730\n",
       "64  wtd_gmean_ThermalConductivity    6.002457\n",
       "70    wtd_std_ThermalConductivity    5.973381\n",
       "46   wtd_entropy_ElectronAffinity    5.508406\n",
       "7               range_atomic_mass    5.051197\n",
       "27            range_atomic_radius    4.644783\n",
       "6         wtd_entropy_atomic_mass    4.468806\n",
       "44     wtd_gmean_ElectronAffinity    4.084523\n",
       "10            wtd_std_atomic_mass    2.960739"
      ]
     },
     "execution_count": 27,
     "metadata": {},
     "output_type": "execute_result"
    }
   ],
   "source": [
    "lassoImportantfeatures.iloc[0:10]"
   ]
  },
  {
   "cell_type": "code",
   "execution_count": 28,
   "metadata": {},
   "outputs": [
    {
     "data": {
      "text/html": [
       "<div>\n",
       "<style scoped>\n",
       "    .dataframe tbody tr th:only-of-type {\n",
       "        vertical-align: middle;\n",
       "    }\n",
       "\n",
       "    .dataframe tbody tr th {\n",
       "        vertical-align: top;\n",
       "    }\n",
       "\n",
       "    .dataframe thead th {\n",
       "        text-align: right;\n",
       "    }\n",
       "</style>\n",
       "<table border=\"1\" class=\"dataframe\">\n",
       "  <thead>\n",
       "    <tr style=\"text-align: right;\">\n",
       "      <th></th>\n",
       "      <th>feature</th>\n",
       "      <th>importance</th>\n",
       "    </tr>\n",
       "  </thead>\n",
       "  <tbody>\n",
       "    <tr>\n",
       "      <th>62</th>\n",
       "      <td>wtd_mean_ThermalConductivity</td>\n",
       "      <td>6.874648</td>\n",
       "    </tr>\n",
       "    <tr>\n",
       "      <th>80</th>\n",
       "      <td>wtd_std_Valence</td>\n",
       "      <td>6.278730</td>\n",
       "    </tr>\n",
       "    <tr>\n",
       "      <th>64</th>\n",
       "      <td>wtd_gmean_ThermalConductivity</td>\n",
       "      <td>6.002457</td>\n",
       "    </tr>\n",
       "    <tr>\n",
       "      <th>70</th>\n",
       "      <td>wtd_std_ThermalConductivity</td>\n",
       "      <td>5.973381</td>\n",
       "    </tr>\n",
       "    <tr>\n",
       "      <th>46</th>\n",
       "      <td>wtd_entropy_ElectronAffinity</td>\n",
       "      <td>5.508406</td>\n",
       "    </tr>\n",
       "    <tr>\n",
       "      <th>7</th>\n",
       "      <td>range_atomic_mass</td>\n",
       "      <td>5.051197</td>\n",
       "    </tr>\n",
       "    <tr>\n",
       "      <th>27</th>\n",
       "      <td>range_atomic_radius</td>\n",
       "      <td>4.644783</td>\n",
       "    </tr>\n",
       "    <tr>\n",
       "      <th>6</th>\n",
       "      <td>wtd_entropy_atomic_mass</td>\n",
       "      <td>4.468806</td>\n",
       "    </tr>\n",
       "    <tr>\n",
       "      <th>44</th>\n",
       "      <td>wtd_gmean_ElectronAffinity</td>\n",
       "      <td>4.084523</td>\n",
       "    </tr>\n",
       "    <tr>\n",
       "      <th>10</th>\n",
       "      <td>wtd_std_atomic_mass</td>\n",
       "      <td>2.960739</td>\n",
       "    </tr>\n",
       "    <tr>\n",
       "      <th>60</th>\n",
       "      <td>wtd_std_FusionHeat</td>\n",
       "      <td>2.909473</td>\n",
       "    </tr>\n",
       "    <tr>\n",
       "      <th>56</th>\n",
       "      <td>wtd_entropy_FusionHeat</td>\n",
       "      <td>2.905453</td>\n",
       "    </tr>\n",
       "    <tr>\n",
       "      <th>22</th>\n",
       "      <td>wtd_mean_atomic_radius</td>\n",
       "      <td>2.846698</td>\n",
       "    </tr>\n",
       "    <tr>\n",
       "      <th>45</th>\n",
       "      <td>entropy_ElectronAffinity</td>\n",
       "      <td>2.819816</td>\n",
       "    </tr>\n",
       "    <tr>\n",
       "      <th>9</th>\n",
       "      <td>std_atomic_mass</td>\n",
       "      <td>2.725971</td>\n",
       "    </tr>\n",
       "    <tr>\n",
       "      <th>40</th>\n",
       "      <td>wtd_std_Density</td>\n",
       "      <td>2.653308</td>\n",
       "    </tr>\n",
       "    <tr>\n",
       "      <th>26</th>\n",
       "      <td>wtd_entropy_atomic_radius</td>\n",
       "      <td>2.553204</td>\n",
       "    </tr>\n",
       "    <tr>\n",
       "      <th>66</th>\n",
       "      <td>wtd_entropy_ThermalConductivity</td>\n",
       "      <td>2.528598</td>\n",
       "    </tr>\n",
       "    <tr>\n",
       "      <th>28</th>\n",
       "      <td>wtd_range_atomic_radius</td>\n",
       "      <td>2.455099</td>\n",
       "    </tr>\n",
       "    <tr>\n",
       "      <th>78</th>\n",
       "      <td>wtd_range_Valence</td>\n",
       "      <td>2.236719</td>\n",
       "    </tr>\n",
       "    <tr>\n",
       "      <th>31</th>\n",
       "      <td>mean_Density</td>\n",
       "      <td>2.172400</td>\n",
       "    </tr>\n",
       "    <tr>\n",
       "      <th>38</th>\n",
       "      <td>wtd_range_Density</td>\n",
       "      <td>2.144438</td>\n",
       "    </tr>\n",
       "    <tr>\n",
       "      <th>63</th>\n",
       "      <td>gmean_ThermalConductivity</td>\n",
       "      <td>2.085322</td>\n",
       "    </tr>\n",
       "    <tr>\n",
       "      <th>48</th>\n",
       "      <td>wtd_range_ElectronAffinity</td>\n",
       "      <td>2.004828</td>\n",
       "    </tr>\n",
       "  </tbody>\n",
       "</table>\n",
       "</div>"
      ],
      "text/plain": [
       "                            feature  importance\n",
       "62     wtd_mean_ThermalConductivity    6.874648\n",
       "80                  wtd_std_Valence    6.278730\n",
       "64    wtd_gmean_ThermalConductivity    6.002457\n",
       "70      wtd_std_ThermalConductivity    5.973381\n",
       "46     wtd_entropy_ElectronAffinity    5.508406\n",
       "7                 range_atomic_mass    5.051197\n",
       "27              range_atomic_radius    4.644783\n",
       "6           wtd_entropy_atomic_mass    4.468806\n",
       "44       wtd_gmean_ElectronAffinity    4.084523\n",
       "10              wtd_std_atomic_mass    2.960739\n",
       "60               wtd_std_FusionHeat    2.909473\n",
       "56           wtd_entropy_FusionHeat    2.905453\n",
       "22           wtd_mean_atomic_radius    2.846698\n",
       "45         entropy_ElectronAffinity    2.819816\n",
       "9                   std_atomic_mass    2.725971\n",
       "40                  wtd_std_Density    2.653308\n",
       "26        wtd_entropy_atomic_radius    2.553204\n",
       "66  wtd_entropy_ThermalConductivity    2.528598\n",
       "28          wtd_range_atomic_radius    2.455099\n",
       "78                wtd_range_Valence    2.236719\n",
       "31                     mean_Density    2.172400\n",
       "38                wtd_range_Density    2.144438\n",
       "63        gmean_ThermalConductivity    2.085322\n",
       "48       wtd_range_ElectronAffinity    2.004828"
      ]
     },
     "execution_count": 28,
     "metadata": {},
     "output_type": "execute_result"
    }
   ],
   "source": [
    "features = np.array(lassoImportantfeatures[lassoImportantfeatures['importance']>=2.95]['feature'])\n",
    "\n",
    "lassoImportantfeatures[lassoImportantfeatures['importance']>=2]"
   ]
  },
  {
   "cell_type": "markdown",
   "metadata": {},
   "source": [
    "From the important features above, we can see that the most important properties: \n",
    "\n",
    "ThermalConductivity, Valence, ElectronAffinity, range of atomic mass (and range of atomic radius are highly correlated). "
   ]
  },
  {
   "cell_type": "code",
   "execution_count": 29,
   "metadata": {},
   "outputs": [
    {
     "data": {
      "image/png": "[encoded data removed]",
      "text/plain": [
       "<Figure size 432x288 with 1 Axes>"
      ]
     },
     "metadata": {
      "needs_background": "light"
     },
     "output_type": "display_data"
    }
   ],
   "source": [
    "plt.scatter(x.wtd_mean_ThermalConductivity, x.wtd_gmean_ThermalConductivity)\n",
    "plt.xlabel('wtd_mean_ThermalConductivity')\n",
    "plt.ylabel('wtd_gmean_ThermalConductivity')\n",
    "plt.show()"
   ]
  },
  {
   "cell_type": "code",
   "execution_count": 30,
   "metadata": {},
   "outputs": [],
   "source": [
    "features = np.array(lassoImportantfeatures[lassoImportantfeatures['importance']>=2.95]['feature'])\n",
    "x_selected = x[features]\n",
    "scaler_selected = StandardScaler().fit(np.array(x_selected))\n",
    "scaled_x_selected = scaler_selected.transform(x_selected)"
   ]
  },
  {
   "cell_type": "code",
   "execution_count": 31,
   "metadata": {},
   "outputs": [
    {
     "name": "stdout",
     "output_type": "stream",
     "text": [
      "Cost at epoch 0 is: 1142.5228037106515\n",
      "Cost at epoch 200 is: 219.9909223656339\n",
      "Cost at epoch 400 is: 205.6540815373324\n",
      "Cost at epoch 600 is: 203.66499348036825\n",
      "Cost at epoch 800 is: 202.38414996652793\n",
      "w = [ 9.11913613 -4.54911957 -7.73079197  6.44419668 -4.1732212   6.9814325\n",
      "  6.47466614  6.14091987 -5.89729853 -3.51834952], b = 34.41973312838502\n"
     ]
    }
   ],
   "source": [
    "lasso_selected =LinearRegression(scaled_x_selected,np.array(y),\n",
    "    lr=1e-2,alpha=0.05,epo=1000,regulation=LassoPenalty)\n",
    "lasso_selected.train()\n",
    "y_pred_train_lassoselected = lasso_selected.predict(scaled_x_selected)\n",
    "cost_train_lassoselected = (y-y_pred_train_lassoselected)**2\n",
    "prediction_lassoselected = pd.DataFrame({\"Y\": y, \"Y_predict\": y_pred_train_lassoselected,\n",
    "                            \"cost\":cost_train_lassoselected})"
   ]
  },
  {
   "cell_type": "code",
   "execution_count": 32,
   "metadata": {},
   "outputs": [
    {
     "data": {
      "image/png": "[encoded data removed]",
      "text/plain": [
       "<Figure size 432x288 with 1 Axes>"
      ]
     },
     "metadata": {
      "needs_background": "light"
     },
     "output_type": "display_data"
    }
   ],
   "source": [
    "plt.scatter(prediction_lassoselected['Y'], \n",
    "    prediction_lassoselected['Y_predict'], \n",
    "    label='Lasso')\n",
    "plt.plot(prediction_lassoselected['Y'],\n",
    "    prediction_lassoselected['Y'], \n",
    "    label='Perfect prediction when dots on this line')\n",
    "plt.legend(loc=\"upper left\")\n",
    "plt.title('Compare Train and Prediction - Lasso with Feature Selection')\n",
    "plt.xlabel('Target Value: True Critical Temperature (k)')\n",
    "plt.ylabel('Predicted Critical Temperature')\n",
    "plt.show()"
   ]
  },
  {
   "cell_type": "markdown",
   "metadata": {},
   "source": [
    "The feature selection improves a little bit on the cost of each epoch."
   ]
  },
  {
   "cell_type": "code",
   "execution_count": 33,
   "metadata": {},
   "outputs": [
    {
     "name": "stdout",
     "output_type": "stream",
     "text": [
      "RMSE of Lasso model on training dataset = 20.069\n",
      "R2 score = 0.6567\n"
     ]
    }
   ],
   "source": [
    "rmse_train_lassoselected = np.sqrt(sum(cost_train_lassoselected)/len(cost_train_lassoselected))\n",
    "r2_train_lassoselected = 1-sum(cost_train_lassoselected)/sum((np.array(y)-sum(np.array(y))/len(np.array(y)))**2)\n",
    "\n",
    "print(f'RMSE of Lasso model on training dataset = {round(rmse_train_lassoselected,3)}')\n",
    "print(f'R2 score = {round(r2_train_lassoselected,4)}')"
   ]
  },
  {
   "cell_type": "code",
   "execution_count": 34,
   "metadata": {},
   "outputs": [
    {
     "data": {
      "text/plain": [
       "0         166.328366\n",
       "1         211.928025\n",
       "2         449.041218\n",
       "3         364.354644\n",
       "4         413.075792\n",
       "            ...     \n",
       "21258     991.104753\n",
       "21259    1717.317945\n",
       "21260      34.325800\n",
       "21261      33.756114\n",
       "21262      99.337341\n",
       "Name: critical_temp, Length: 21263, dtype: float64"
      ]
     },
     "execution_count": 34,
     "metadata": {},
     "output_type": "execute_result"
    }
   ],
   "source": [
    "cost_train_lassoselected"
   ]
  },
  {
   "cell_type": "markdown",
   "metadata": {},
   "source": [
    "#### Decision Tree Regressor"
   ]
  },
  {
   "cell_type": "code",
   "execution_count": 35,
   "metadata": {},
   "outputs": [],
   "source": [
    "#imports\n",
    "from abc import ABC,abstractmethod\n",
    "import numpy as np\n",
    "\n",
    "#class to control tree node\n",
    "class Node:\n",
    "    #initializer\n",
    "    def __init__(self):\n",
    "        self.__Bs    = None\n",
    "        self.__Bf    = None\n",
    "        self.__left  = None\n",
    "        self.__right = None\n",
    "        self.leafv   = None\n",
    "\n",
    "    #set the split,feature parameters for this node\n",
    "    def set_params(self,Bs,Bf):\n",
    "        self.__Bs = Bs\n",
    "        self.__Bf = Bf\n",
    "        \n",
    "    #get the split,feature parameters for this node\n",
    "    def get_params(self):\n",
    "        return(self.__Bs,self.__Bf)    \n",
    "        \n",
    "    #set the left/right children nodes for this current node\n",
    "    def set_children(self,left,right):\n",
    "        self.__left  = left\n",
    "        self.__right = right\n",
    "        \n",
    "    #get the left child node\n",
    "    def get_left_node(self):\n",
    "        return(self.__left)\n",
    "    \n",
    "    #get the right child node\n",
    "    def get_right_node(self):\n",
    "        return(self.__right)\n",
    "\n",
    "#base class to encompass the decision tree algorithm\n",
    "class DecisionTree(ABC):\n",
    "    #initializer\n",
    "    def __init__(self,max_depth=None,min_samples_split=2):\n",
    "        self.tree              = None\n",
    "        self.max_depth         = max_depth\n",
    "        self.min_samples_split = min_samples_split\n",
    "        \n",
    "    #protected function to define the impurity\n",
    "    @abstractmethod\n",
    "    def _impurity(self,D):\n",
    "         pass\n",
    "        \n",
    "    #protected function to compute the value at a leaf node\n",
    "    @abstractmethod\n",
    "    def _leaf_value(self,D):\n",
    "         pass\n",
    "        \n",
    "    #private recursive function to grow the tree during training\n",
    "    def __grow(self,node,D,level):       \n",
    "        #are we in a leaf node? let's do some check...\n",
    "        depth = (self.max_depth is None) or (self.max_depth >= (level+1))\n",
    "        msamp = (self.min_samples_split <= D.shape[0])\n",
    "        n_cls = np.unique(D[:,-1]).shape[0] != 1\n",
    "        \n",
    "        #not a leaf node\n",
    "        if depth and msamp and n_cls:\n",
    "        \n",
    "            #initialize the function parameters\n",
    "            ip_node = None\n",
    "            feature = None\n",
    "            split   = None\n",
    "            left_D  = None\n",
    "            right_D = None\n",
    "            #determine the possible features on which we can split\n",
    "            features = np.random.choice([i for i in range(D.shape[1]-1)],size=int(np.sqrt(D.shape[1]-1)),replace=False)\n",
    "            #iterrate through the possible feature/split combinations\n",
    "            for f in features:\n",
    "                for s in np.unique(D[:,f]):\n",
    "                    #for the current (f,s) combination, split the dataset\n",
    "                    D_l = D[D[:,f]<=s]\n",
    "                    D_r = D[D[:,f]>s]\n",
    "                    #ensure we have non-empty arrays, otherwise treat as a leaf node\n",
    "                    if D_l.size and D_r.size:\n",
    "                        #calculate the impurity\n",
    "                        ip  = (D_l.shape[0]/D.shape[0])*self._impurity(D_l) + (D_r.shape[0]/D.shape[0])*self._impurity(D_r)\n",
    "                        #now update the impurity and choice of (f,s)\n",
    "                        if (ip_node is None) or (ip < ip_node):\n",
    "                            ip_node = ip\n",
    "                            feature = f\n",
    "                            split   = s\n",
    "                            left_D  = D_l\n",
    "                            right_D = D_r    \n",
    "            #check if valid parameters were found? If not, treat this as a leaf node & return\n",
    "            if (split is None) or (feature is None) or (left_D is None) or (right_D is None):\n",
    "                node.leafv = self._leaf_value(D)\n",
    "                return\n",
    "            #set the current node's parameters\n",
    "            node.set_params(split,feature)\n",
    "            #declare child nodes\n",
    "            left_node  = Node()\n",
    "            right_node = Node()\n",
    "            node.set_children(left_node,right_node)\n",
    "            #investigate child nodes\n",
    "            self.__grow(node.get_left_node(),left_D,level+1)\n",
    "            self.__grow(node.get_right_node(),right_D,level+1)\n",
    "                        \n",
    "        #is a leaf node\n",
    "        else:\n",
    "            \n",
    "            #set the node value & return\n",
    "            node.leafv = self._leaf_value(D)\n",
    "            return\n",
    "     \n",
    "    #private recursive function to traverse the (trained) tree\n",
    "    def __traverse(self,node,Xrow):\n",
    "        #check if we're in a leaf node?\n",
    "        if node.leafv is None:\n",
    "            #get parameters at the node\n",
    "            (s,f) = node.get_params()\n",
    "            #decide to go left or right?\n",
    "            if (Xrow[f] <= s):\n",
    "                return(self.__traverse(node.get_left_node(),Xrow))\n",
    "            else:\n",
    "                return(self.__traverse(node.get_right_node(),Xrow))\n",
    "        else:\n",
    "            #return the leaf value\n",
    "            return(node.leafv)\n",
    "    \n",
    "    #train the tree model\n",
    "    def fit(self,Xin,Yin):\n",
    "        #prepare the input data\n",
    "        D = np.concatenate((Xin,Yin.reshape(-1,1)),axis=1)\n",
    "        #set the root node of the tree\n",
    "        self.tree = Node()\n",
    "        #build the tree\n",
    "        self.__grow(self.tree,D,1)\n",
    "        \n",
    "    #make predictions from the trained tree\n",
    "    def predict(self,Xin):\n",
    "        #iterrate through the rows of Xin\n",
    "        p = []\n",
    "        for r in range(Xin.shape[0]):\n",
    "            p.append(self.__traverse(self.tree,Xin[r,:]))\n",
    "        #return predictions\n",
    "        return(np.array(p).flatten())\n",
    "\n",
    "\n",
    "class DecisionTreeRegressor(DecisionTree):\n",
    "    #initializer\n",
    "    def __init__(self,max_depth=None,min_samples_split=2,loss='mse'):\n",
    "        super().__init__(max_depth,min_samples_split)\n",
    "        self.loss              = loss   \n",
    "    \n",
    "    #private function to define the mean squared error\n",
    "    def __mse(self,D):\n",
    "        #compute the mean target for the node\n",
    "        y_m = np.mean(D[:,-1])\n",
    "        #compute the mean squared error wrt the mean\n",
    "        E = np.sum((D[:,-1] - y_m)**2)/D.shape[0]\n",
    "        #return mse\n",
    "        return(E)\n",
    "    \n",
    "    #private function to define the mean absolute error\n",
    "    def __mae(self,D):\n",
    "        #compute the mean target for the node\n",
    "        y_m = np.mean(D[:,-1])\n",
    "        #compute the mean absolute error wrt the mean\n",
    "        E = np.sum(np.abs(D[:,-1] - y_m))/D.shape[0]\n",
    "        #return mae\n",
    "        return(E)\n",
    "    \n",
    "    #protected function to define the impurity\n",
    "    def _impurity(self,D):\n",
    "        #use the selected loss function to calculate the node impurity\n",
    "        ip = None\n",
    "        if self.loss == 'mse':\n",
    "            ip = self.__mse(D)\n",
    "        elif self.loss == 'mae':\n",
    "            ip = self.__mae(D)\n",
    "        #return results\n",
    "        return(ip)\n",
    "    \n",
    "    #protected function to compute the value at a leaf node\n",
    "    def _leaf_value(self,D):\n",
    "         return(np.mean(D[:,-1]))\n",
    "     \n",
    "    #public function to return model parameters\n",
    "    def get_params(self,deep=False):\n",
    "        return{'max_depth':self.max_depth,\n",
    "               'min_samples_split':self.min_samples_split,\n",
    "               'loss':self.loss}"
   ]
  },
  {
   "cell_type": "code",
   "execution_count": 36,
   "metadata": {},
   "outputs": [],
   "source": [
    "dtrg = DecisionTreeRegressor(max_depth=4,min_samples_split=3)"
   ]
  },
  {
   "cell_type": "code",
   "execution_count": 37,
   "metadata": {},
   "outputs": [],
   "source": [
    "dtrg.fit(np.array(x_selected), np.array(y).reshape(-1,1))"
   ]
  },
  {
   "cell_type": "code",
   "execution_count": 38,
   "metadata": {},
   "outputs": [
    {
     "data": {
      "text/html": [
       "<div>\n",
       "<style scoped>\n",
       "    .dataframe tbody tr th:only-of-type {\n",
       "        vertical-align: middle;\n",
       "    }\n",
       "\n",
       "    .dataframe tbody tr th {\n",
       "        vertical-align: top;\n",
       "    }\n",
       "\n",
       "    .dataframe thead th {\n",
       "        text-align: right;\n",
       "    }\n",
       "</style>\n",
       "<table border=\"1\" class=\"dataframe\">\n",
       "  <thead>\n",
       "    <tr style=\"text-align: right;\">\n",
       "      <th></th>\n",
       "      <th>Y</th>\n",
       "      <th>Y_predict</th>\n",
       "      <th>cost</th>\n",
       "    </tr>\n",
       "  </thead>\n",
       "  <tbody>\n",
       "    <tr>\n",
       "      <th>0</th>\n",
       "      <td>29.00</td>\n",
       "      <td>25.090484</td>\n",
       "      <td>15.284313</td>\n",
       "    </tr>\n",
       "    <tr>\n",
       "      <th>1</th>\n",
       "      <td>26.00</td>\n",
       "      <td>25.090484</td>\n",
       "      <td>0.827219</td>\n",
       "    </tr>\n",
       "    <tr>\n",
       "      <th>2</th>\n",
       "      <td>19.00</td>\n",
       "      <td>25.090484</td>\n",
       "      <td>37.093998</td>\n",
       "    </tr>\n",
       "    <tr>\n",
       "      <th>3</th>\n",
       "      <td>22.00</td>\n",
       "      <td>25.090484</td>\n",
       "      <td>9.551093</td>\n",
       "    </tr>\n",
       "    <tr>\n",
       "      <th>4</th>\n",
       "      <td>23.00</td>\n",
       "      <td>25.090484</td>\n",
       "      <td>4.370124</td>\n",
       "    </tr>\n",
       "    <tr>\n",
       "      <th>...</th>\n",
       "      <td>...</td>\n",
       "      <td>...</td>\n",
       "      <td>...</td>\n",
       "    </tr>\n",
       "    <tr>\n",
       "      <th>21258</th>\n",
       "      <td>2.44</td>\n",
       "      <td>6.936371</td>\n",
       "      <td>20.217350</td>\n",
       "    </tr>\n",
       "    <tr>\n",
       "      <th>21259</th>\n",
       "      <td>122.10</td>\n",
       "      <td>68.833833</td>\n",
       "      <td>2837.284504</td>\n",
       "    </tr>\n",
       "    <tr>\n",
       "      <th>21260</th>\n",
       "      <td>1.98</td>\n",
       "      <td>7.745551</td>\n",
       "      <td>33.241580</td>\n",
       "    </tr>\n",
       "    <tr>\n",
       "      <th>21261</th>\n",
       "      <td>1.84</td>\n",
       "      <td>7.745551</td>\n",
       "      <td>34.875534</td>\n",
       "    </tr>\n",
       "    <tr>\n",
       "      <th>21262</th>\n",
       "      <td>12.80</td>\n",
       "      <td>7.745551</td>\n",
       "      <td>25.547453</td>\n",
       "    </tr>\n",
       "  </tbody>\n",
       "</table>\n",
       "<p>21263 rows × 3 columns</p>\n",
       "</div>"
      ],
      "text/plain": [
       "            Y  Y_predict         cost\n",
       "0       29.00  25.090484    15.284313\n",
       "1       26.00  25.090484     0.827219\n",
       "2       19.00  25.090484    37.093998\n",
       "3       22.00  25.090484     9.551093\n",
       "4       23.00  25.090484     4.370124\n",
       "...       ...        ...          ...\n",
       "21258    2.44   6.936371    20.217350\n",
       "21259  122.10  68.833833  2837.284504\n",
       "21260    1.98   7.745551    33.241580\n",
       "21261    1.84   7.745551    34.875534\n",
       "21262   12.80   7.745551    25.547453\n",
       "\n",
       "[21263 rows x 3 columns]"
      ]
     },
     "execution_count": 38,
     "metadata": {},
     "output_type": "execute_result"
    }
   ],
   "source": [
    "dtrg_pred_train = dtrg.predict(x_selected.values)\n",
    "cost_train_dtrg = (y-dtrg_pred_train)**2\n",
    "prediction_dtrg = pd.DataFrame({\"Y\": y, \"Y_predict\": dtrg_pred_train,\n",
    "                            \"cost\":cost_train_dtrg})\n",
    "prediction_dtrg"
   ]
  },
  {
   "cell_type": "code",
   "execution_count": 39,
   "metadata": {},
   "outputs": [
    {
     "data": {
      "image/png": "[encoded data removed]",
      "text/plain": [
       "<Figure size 432x288 with 1 Axes>"
      ]
     },
     "metadata": {
      "needs_background": "light"
     },
     "output_type": "display_data"
    }
   ],
   "source": [
    "plt.scatter(prediction_dtrg['Y'], \n",
    "    prediction_dtrg['Y_predict'], \n",
    "    label='Decision Tree Regressor')\n",
    "plt.plot(prediction_dtrg['Y'], \n",
    "    prediction_dtrg['Y'], \n",
    "    label='Perfect prediction when dots on this line')\n",
    "plt.legend(loc=\"upper left\")\n",
    "plt.title('Compare Train and Prediction - DTRG with Feature Selection')\n",
    "plt.xlabel('Target Value: True Critical Temperature (k)')\n",
    "plt.ylabel('Predicted Critical Temperature')\n",
    "plt.show()"
   ]
  },
  {
   "cell_type": "code",
   "execution_count": 40,
   "metadata": {},
   "outputs": [
    {
     "name": "stdout",
     "output_type": "stream",
     "text": [
      "RMSE of DTRG model on training dataset = 20.494\n",
      "R2 score = 0.6421\n"
     ]
    }
   ],
   "source": [
    "rmse_train_dtrgselected = np.sqrt(sum(cost_train_dtrg)/len(cost_train_dtrg))\n",
    "r2_train_dtrgselected = 1-sum(cost_train_dtrg)/sum((np.array(y)-sum(np.array(y))/len(np.array(y)))**2)\n",
    "\n",
    "print(f'RMSE of DTRG model on training dataset = {round(rmse_train_dtrgselected,3)}')\n",
    "print(f'R2 score = {round(r2_train_dtrgselected,4)}')"
   ]
  },
  {
   "cell_type": "markdown",
   "metadata": {},
   "source": [
    "#### Gradient Boost\n",
    "\n",
    "Tried Gradient Boost model fitting for over 12 hours without any conclusion. Timing can be a seriouis issue for this method. Thus, gradient boost is a discarded model. "
   ]
  },
  {
   "cell_type": "code",
   "execution_count": 75,
   "metadata": {},
   "outputs": [],
   "source": [
    "from typing import Dict, Any, List\n",
    "\n",
    "class GradientBoostTreeRegressor(object):\n",
    "    #initializer\n",
    "    def __init__(self,  n_elements : int = 100, learning_rate : float = 0.01) -> None:\n",
    "        self.weak_learner  = DecisionTreeRegressor(max_depth=5)\n",
    "        self.n_elements    = n_elements\n",
    "        self.learning_rate = learning_rate\n",
    "        self.f             = []\n",
    "        self.residuals     = []\n",
    "        \n",
    "    #destructor\n",
    "    def __del__(self) -> None:\n",
    "        del self.weak_learner\n",
    "        del self.n_elements\n",
    "        del self.learning_rate\n",
    "        del self.f\n",
    "        del self.residuals\n",
    "    \n",
    "    #public function to return model parameters\n",
    "    def get_params(self, deep : bool = False) -> Dict:\n",
    "        return {'weak_learner':self.weak_learner,'n_elements':self.n_elements,'learning_rate':self.learning_rate}\n",
    "    \n",
    "    #public function to train the ensemble\n",
    "    def fit(self, X_train : np.array, y_train : np.array) -> None:\n",
    "        #initialize residuals\n",
    "        r = np.copy(y_train).astype(float)\n",
    "        #loop through the specified number of iterations in the ensemble\n",
    "        for _ in range(self.n_elements):\n",
    "            #make a copy of the weak learner\n",
    "            model = clone(self.weak_learner)\n",
    "            #fit the weak learner on the current dataset\n",
    "            model.fit(X_train,r)\n",
    "            #update the residuals\n",
    "            r -= self.learning_rate*model.predict(X_train)\n",
    "            #append resulting model\n",
    "            self.f.append(model)\n",
    "            #append current mean residual\n",
    "            self.residuals.append(np.mean(r))    \n",
    "            \n",
    "    #public function to return residuals\n",
    "    def get_residuals(self) -> List:\n",
    "        return(self.residuals)\n",
    "    \n",
    "    #public function to generate predictions\n",
    "    def predict(self, X_test : np.array) -> np.array:\n",
    "        #initialize output\n",
    "        y_pred = np.zeros((X_test.shape[0]))\n",
    "        #traverse ensemble to generate predictions\n",
    "        for model in self.f:\n",
    "            y_pred += self.learning_rate*model.predict(X_test)\n",
    "        #return predictions\n",
    "        return(y_pred)"
   ]
  },
  {
   "cell_type": "code",
   "execution_count": 88,
   "metadata": {},
   "outputs": [],
   "source": [
    "features = np.array(lassoImportantfeatures[lassoImportantfeatures['importance']>=5]['feature'])\n",
    "x_selected1 = x[features]\n",
    "scaler_selected = StandardScaler().fit(np.array(x_selected1))\n",
    "scaled_x_selected = scaler_selected.transform(x_selected1)"
   ]
  },
  {
   "cell_type": "code",
   "execution_count": 95,
   "metadata": {},
   "outputs": [],
   "source": [
    "# gradBoost = GradientBoostTreeRegressor(n_elements=1000, learning_rate=1.2e-5)\n",
    "# gradBoost.fit(np.array(scaled_x_selected),np.array(y))"
   ]
  },
  {
   "cell_type": "code",
   "execution_count": 84,
   "metadata": {},
   "outputs": [],
   "source": [
    "# Save model\n",
    "modelname = 'grad_model.sav'\n",
    "if os.path.isfile(modelname):\n",
    "    pass\n",
    "else:\n",
    "    pickle.dump(gradBoost, open(modelname,'wb'))"
   ]
  },
  {
   "cell_type": "markdown",
   "metadata": {},
   "source": [
    "#### Random Forest Regressor"
   ]
  },
  {
   "cell_type": "code",
   "execution_count": 41,
   "metadata": {},
   "outputs": [],
   "source": [
    "from abc import ABC,abstractmethod\n",
    "from sklearn.base import clone\n",
    "    \n",
    "class RandomForest(ABC):\n",
    "    #initializer\n",
    "    def __init__(self,n_trees=100):\n",
    "        self.n_trees = n_trees\n",
    "        self.trees   = []\n",
    "        \n",
    "    #private function to make bootstrap samples\n",
    "    def __make_bootstraps(self,data):\n",
    "        #initialize output dictionary & unique value count\n",
    "        dc   = {}\n",
    "        unip = 0\n",
    "        #get sample size\n",
    "        b_size = data.shape[0]\n",
    "        #get list of row indexes\n",
    "        idx = [i for i in range(b_size)]\n",
    "        #loop through the required number of bootstraps\n",
    "        for b in range(self.n_trees):\n",
    "            #obtain boostrap samples with replacement\n",
    "            sidx   = np.random.choice(idx,replace=True,size=b_size)\n",
    "            b_samp = data[sidx,:]\n",
    "            #compute number of unique values contained in the bootstrap sample\n",
    "            unip  += len(set(sidx))\n",
    "            #obtain out-of-bag samples for the current b\n",
    "            oidx   = list(set(idx) - set(sidx))\n",
    "            o_samp = np.array([])\n",
    "            if oidx:\n",
    "                o_samp = data[oidx,:]\n",
    "            #store results\n",
    "            dc['boot_'+str(b)] = {'boot':b_samp,'test':o_samp}\n",
    "        #return the bootstrap results\n",
    "        return(dc)\n",
    "  \n",
    "    #public function to return model parameters\n",
    "    def get_params(self, deep = False):\n",
    "        return {'n_trees':self.n_trees}\n",
    "\n",
    "    #protected function to obtain the right decision tree\n",
    "    @abstractmethod\n",
    "    def _make_tree_model(self):\n",
    "        pass\n",
    "    \n",
    "    #protected function to train the ensemble\n",
    "    def _train(self,X_train,y_train):\n",
    "        #package the input data\n",
    "        training_data = np.concatenate((X_train,y_train.reshape(-1,1)),axis=1)\n",
    "        #make bootstrap samples\n",
    "        dcBoot = self.__make_bootstraps(training_data)\n",
    "        #iterate through each bootstrap sample & fit a model ##\n",
    "        tree_m = self._make_tree_model()\n",
    "        dcOob    = {}\n",
    "        for b in dcBoot:\n",
    "            #make a clone of the model\n",
    "            model = clone(tree_m)\n",
    "            #fit a decision tree model to the current sample\n",
    "            model.fit(dcBoot[b]['boot'][:,:-1],dcBoot[b]['boot'][:,-1].reshape(-1, 1))\n",
    "            #append the fitted model\n",
    "            self.trees.append(model)\n",
    "            #store the out-of-bag test set for the current bootstrap\n",
    "            if dcBoot[b]['test'].size:\n",
    "                dcOob[b] = dcBoot[b]['test']\n",
    "            else:\n",
    "                dcOob[b] = np.array([])\n",
    "        #return the oob data set\n",
    "        return(dcOob)\n",
    "       \n",
    "    #protected function to predict from the ensemble\n",
    "    def _predict(self,X):\n",
    "        #check we've fit the ensemble\n",
    "        if not self.trees:\n",
    "            print('You must train the ensemble before making predictions!')\n",
    "            return(None)\n",
    "        #loop through each fitted model\n",
    "        predictions = []\n",
    "        for m in self.trees:\n",
    "            #make predictions on the input X\n",
    "            yp = m.predict(X)\n",
    "            #append predictions to storage list\n",
    "            predictions.append(yp.reshape(-1,1))\n",
    "        #compute the ensemble prediction\n",
    "        ypred = np.mean(np.concatenate(predictions,axis=1),axis=1)\n",
    "        #return the prediction\n",
    "        return(ypred)\n",
    "\n",
    "#class for random forest regressor\n",
    "class RandomForestRegressor(RandomForest):\n",
    "    #initializer\n",
    "    def __init__(self,n_trees=100,max_depth=None,min_samples_split=2,loss='mse'):\n",
    "        super().__init__(n_trees)\n",
    "        self.max_depth             = max_depth\n",
    "        self.min_samples_split     = min_samples_split\n",
    "        self.loss                  = loss\n",
    "        \n",
    "    #protected function to obtain the right decision tree\n",
    "    def _make_tree_model(self):\n",
    "        return(DecisionTreeRegressor(self.max_depth,self.min_samples_split,self.loss))\n",
    "    \n",
    "    #public function to return model parameters\n",
    "    def get_params(self, deep = False):\n",
    "        return {'n_trees':self.n_trees,\n",
    "                'max_depth':self.max_depth,\n",
    "                'min_samples_split':self.min_samples_split,\n",
    "                'loss':self.loss}\n",
    "    \n",
    "    #train the ensemble\n",
    "    def fit(self,X_train,y_train):\n",
    "        #call the protected training method\n",
    "        dcOob = self._train(X_train,y_train)\n",
    "            \n",
    "    #predict from the ensemble\n",
    "    def predict(self,X):\n",
    "        #call the protected prediction method\n",
    "        ypred = self._predict(X)\n",
    "        #return the results\n",
    "        return(ypred)  "
   ]
  },
  {
   "cell_type": "code",
   "execution_count": 63,
   "metadata": {},
   "outputs": [],
   "source": [
    "# rfr = RandomForestRegressor(max_depth=4)\n",
    "# rfr.fit(np.array(x_selected), np.array(y).reshape(-1,1))"
   ]
  },
  {
   "cell_type": "code",
   "execution_count": 67,
   "metadata": {},
   "outputs": [],
   "source": [
    "# # Save model\n",
    "# modelname = 'rfr_model.sav'\n",
    "# if os.path.isfile(modelname):\n",
    "#     pass\n",
    "# else:\n",
    "#     pickle.dump(rfr, open(modelname,'wb'))"
   ]
  },
  {
   "cell_type": "markdown",
   "metadata": {},
   "source": [
    "Save model for later use withouth fitting 2hrs again. "
   ]
  },
  {
   "cell_type": "code",
   "execution_count": 68,
   "metadata": {},
   "outputs": [],
   "source": [
    "# features = np.array(lassoImportantfeatures[lassoImportantfeatures['importance']>=2.95]['feature'])\n",
    "# x_selected1 = x[features]\n",
    "# scaler_selected = StandardScaler().fit(np.array(x_selected1))\n",
    "# scaled_x_selected = scaler_selected.transform(x_selected1)\n",
    "\n",
    "# rfr2 = RandomForestRegressor(max_depth=4)\n",
    "# rfr2.fit(np.array(x_selected1), np.array(y).reshape(-1,1))\n",
    "\n",
    "modelname = 'rfr_model.sav'\n",
    "modelname2 = 'rfr_model2.sav'\n",
    "\n",
    "# if os.path.isfile(modelname):\n",
    "#     pass\n",
    "# else:\n",
    "#     pickle.dump(rfr2, open(modelname,'wb'))"
   ]
  },
  {
   "cell_type": "code",
   "execution_count": 70,
   "metadata": {},
   "outputs": [],
   "source": [
    "# Load model\n",
    "rfr = pickle.load(open(modelname,'rb'))\n",
    "rfr2 = pickle.load(open(modelname2,'rb'))\n",
    "# rfr2 = loaded_rfr2"
   ]
  },
  {
   "cell_type": "code",
   "execution_count": 71,
   "metadata": {},
   "outputs": [
    {
     "data": {
      "text/html": [
       "<div>\n",
       "<style scoped>\n",
       "    .dataframe tbody tr th:only-of-type {\n",
       "        vertical-align: middle;\n",
       "    }\n",
       "\n",
       "    .dataframe tbody tr th {\n",
       "        vertical-align: top;\n",
       "    }\n",
       "\n",
       "    .dataframe thead th {\n",
       "        text-align: right;\n",
       "    }\n",
       "</style>\n",
       "<table border=\"1\" class=\"dataframe\">\n",
       "  <thead>\n",
       "    <tr style=\"text-align: right;\">\n",
       "      <th></th>\n",
       "      <th>Y</th>\n",
       "      <th>Y_predict</th>\n",
       "      <th>cost</th>\n",
       "    </tr>\n",
       "  </thead>\n",
       "  <tbody>\n",
       "    <tr>\n",
       "      <th>0</th>\n",
       "      <td>29.00</td>\n",
       "      <td>27.880774</td>\n",
       "      <td>1.252666</td>\n",
       "    </tr>\n",
       "    <tr>\n",
       "      <th>1</th>\n",
       "      <td>26.00</td>\n",
       "      <td>26.162122</td>\n",
       "      <td>0.026283</td>\n",
       "    </tr>\n",
       "    <tr>\n",
       "      <th>2</th>\n",
       "      <td>19.00</td>\n",
       "      <td>24.163189</td>\n",
       "      <td>26.658520</td>\n",
       "    </tr>\n",
       "    <tr>\n",
       "      <th>3</th>\n",
       "      <td>22.00</td>\n",
       "      <td>26.800452</td>\n",
       "      <td>23.044338</td>\n",
       "    </tr>\n",
       "    <tr>\n",
       "      <th>4</th>\n",
       "      <td>23.00</td>\n",
       "      <td>37.159816</td>\n",
       "      <td>200.500384</td>\n",
       "    </tr>\n",
       "    <tr>\n",
       "      <th>...</th>\n",
       "      <td>...</td>\n",
       "      <td>...</td>\n",
       "      <td>...</td>\n",
       "    </tr>\n",
       "    <tr>\n",
       "      <th>21258</th>\n",
       "      <td>2.44</td>\n",
       "      <td>12.376360</td>\n",
       "      <td>98.731241</td>\n",
       "    </tr>\n",
       "    <tr>\n",
       "      <th>21259</th>\n",
       "      <td>122.10</td>\n",
       "      <td>72.396865</td>\n",
       "      <td>2470.401619</td>\n",
       "    </tr>\n",
       "    <tr>\n",
       "      <th>21260</th>\n",
       "      <td>1.98</td>\n",
       "      <td>6.395363</td>\n",
       "      <td>19.495427</td>\n",
       "    </tr>\n",
       "    <tr>\n",
       "      <th>21261</th>\n",
       "      <td>1.84</td>\n",
       "      <td>6.873757</td>\n",
       "      <td>25.338705</td>\n",
       "    </tr>\n",
       "    <tr>\n",
       "      <th>21262</th>\n",
       "      <td>12.80</td>\n",
       "      <td>8.379878</td>\n",
       "      <td>19.537482</td>\n",
       "    </tr>\n",
       "  </tbody>\n",
       "</table>\n",
       "<p>21263 rows × 3 columns</p>\n",
       "</div>"
      ],
      "text/plain": [
       "            Y  Y_predict         cost\n",
       "0       29.00  27.880774     1.252666\n",
       "1       26.00  26.162122     0.026283\n",
       "2       19.00  24.163189    26.658520\n",
       "3       22.00  26.800452    23.044338\n",
       "4       23.00  37.159816   200.500384\n",
       "...       ...        ...          ...\n",
       "21258    2.44  12.376360    98.731241\n",
       "21259  122.10  72.396865  2470.401619\n",
       "21260    1.98   6.395363    19.495427\n",
       "21261    1.84   6.873757    25.338705\n",
       "21262   12.80   8.379878    19.537482\n",
       "\n",
       "[21263 rows x 3 columns]"
      ]
     },
     "execution_count": 71,
     "metadata": {},
     "output_type": "execute_result"
    }
   ],
   "source": [
    "rfr_pred_train = rfr.predict(np.array(x_selected))\n",
    "cost_train_rfr = (y-rfr_pred_train)**2\n",
    "prediction_rfr = pd.DataFrame({\"Y\": y, \"Y_predict\": rfr_pred_train,\n",
    "                            \"cost\":cost_train_rfr})\n",
    "prediction_rfr"
   ]
  },
  {
   "cell_type": "code",
   "execution_count": 72,
   "metadata": {},
   "outputs": [
    {
     "data": {
      "image/png": "[encoded data removed]",
      "text/plain": [
       "<Figure size 432x288 with 1 Axes>"
      ]
     },
     "metadata": {
      "needs_background": "light"
     },
     "output_type": "display_data"
    }
   ],
   "source": [
    "plt.scatter(prediction_rfr['Y'], \n",
    "    prediction_rfr['Y_predict'], \n",
    "    color = 'yellowgreen',\n",
    "    label='Random Forest')\n",
    "plt.scatter(prediction_rfr['Y'], \n",
    "    prediction_rfr['Y'], \n",
    "    label='Perfect prediction when dots on this line')\n",
    "plt.legend(loc=\"upper left\")\n",
    "plt.title('Compare Train and Prediction - Random Forest with Feature Selection')\n",
    "plt.xlabel('Target Value: True Critical Temperature (k)')\n",
    "plt.ylabel('Predicted Critical Temperature')\n",
    "plt.show()"
   ]
  },
  {
   "cell_type": "code",
   "execution_count": 85,
   "metadata": {},
   "outputs": [
    {
     "data": {
      "text/html": [
       "<div>\n",
       "<style scoped>\n",
       "    .dataframe tbody tr th:only-of-type {\n",
       "        vertical-align: middle;\n",
       "    }\n",
       "\n",
       "    .dataframe tbody tr th {\n",
       "        vertical-align: top;\n",
       "    }\n",
       "\n",
       "    .dataframe thead th {\n",
       "        text-align: right;\n",
       "    }\n",
       "</style>\n",
       "<table border=\"1\" class=\"dataframe\">\n",
       "  <thead>\n",
       "    <tr style=\"text-align: right;\">\n",
       "      <th></th>\n",
       "      <th>Y</th>\n",
       "      <th>Y_predict</th>\n",
       "      <th>cost</th>\n",
       "    </tr>\n",
       "  </thead>\n",
       "  <tbody>\n",
       "    <tr>\n",
       "      <th>0</th>\n",
       "      <td>29.00</td>\n",
       "      <td>27.880774</td>\n",
       "      <td>1.252666</td>\n",
       "    </tr>\n",
       "    <tr>\n",
       "      <th>1</th>\n",
       "      <td>26.00</td>\n",
       "      <td>26.162122</td>\n",
       "      <td>0.026283</td>\n",
       "    </tr>\n",
       "    <tr>\n",
       "      <th>2</th>\n",
       "      <td>19.00</td>\n",
       "      <td>24.163189</td>\n",
       "      <td>26.658520</td>\n",
       "    </tr>\n",
       "    <tr>\n",
       "      <th>3</th>\n",
       "      <td>22.00</td>\n",
       "      <td>26.800452</td>\n",
       "      <td>23.044338</td>\n",
       "    </tr>\n",
       "    <tr>\n",
       "      <th>4</th>\n",
       "      <td>23.00</td>\n",
       "      <td>37.159816</td>\n",
       "      <td>200.500384</td>\n",
       "    </tr>\n",
       "    <tr>\n",
       "      <th>...</th>\n",
       "      <td>...</td>\n",
       "      <td>...</td>\n",
       "      <td>...</td>\n",
       "    </tr>\n",
       "    <tr>\n",
       "      <th>21258</th>\n",
       "      <td>2.44</td>\n",
       "      <td>12.376360</td>\n",
       "      <td>98.731241</td>\n",
       "    </tr>\n",
       "    <tr>\n",
       "      <th>21259</th>\n",
       "      <td>122.10</td>\n",
       "      <td>72.396865</td>\n",
       "      <td>2470.401619</td>\n",
       "    </tr>\n",
       "    <tr>\n",
       "      <th>21260</th>\n",
       "      <td>1.98</td>\n",
       "      <td>6.395363</td>\n",
       "      <td>19.495427</td>\n",
       "    </tr>\n",
       "    <tr>\n",
       "      <th>21261</th>\n",
       "      <td>1.84</td>\n",
       "      <td>6.873757</td>\n",
       "      <td>25.338705</td>\n",
       "    </tr>\n",
       "    <tr>\n",
       "      <th>21262</th>\n",
       "      <td>12.80</td>\n",
       "      <td>8.379878</td>\n",
       "      <td>19.537482</td>\n",
       "    </tr>\n",
       "  </tbody>\n",
       "</table>\n",
       "<p>21263 rows × 3 columns</p>\n",
       "</div>"
      ],
      "text/plain": [
       "            Y  Y_predict         cost\n",
       "0       29.00  27.880774     1.252666\n",
       "1       26.00  26.162122     0.026283\n",
       "2       19.00  24.163189    26.658520\n",
       "3       22.00  26.800452    23.044338\n",
       "4       23.00  37.159816   200.500384\n",
       "...       ...        ...          ...\n",
       "21258    2.44  12.376360    98.731241\n",
       "21259  122.10  72.396865  2470.401619\n",
       "21260    1.98   6.395363    19.495427\n",
       "21261    1.84   6.873757    25.338705\n",
       "21262   12.80   8.379878    19.537482\n",
       "\n",
       "[21263 rows x 3 columns]"
      ]
     },
     "execution_count": 85,
     "metadata": {},
     "output_type": "execute_result"
    }
   ],
   "source": [
    "prediction_rfr"
   ]
  },
  {
   "cell_type": "code",
   "execution_count": 92,
   "metadata": {},
   "outputs": [
    {
     "data": {
      "image/png": "[encoded data removed]",
      "text/plain": [
       "<Figure size 432x288 with 1 Axes>"
      ]
     },
     "metadata": {
      "needs_background": "light"
     },
     "output_type": "display_data"
    }
   ],
   "source": [
    "# plt.scatter(prediction_rfr['Y'], \n",
    "#     prediction_rfr['Y_predict'], \n",
    "#     color = 'yellowgreen',\n",
    "#     label='Random Forest')\n",
    "plt.scatter(prediction_rfr['Y'], \n",
    "    prediction_rfr['cost'], \n",
    "    label='cost')\n",
    "plt.legend(loc=\"upper left\")\n",
    "plt.title('Cost of observations')\n",
    "plt.xlabel('Target Value: True Critical Temperature (k)')\n",
    "plt.ylabel('Cost')\n",
    "plt.show()"
   ]
  },
  {
   "cell_type": "code",
   "execution_count": 90,
   "metadata": {},
   "outputs": [
    {
     "data": {
      "text/plain": [
       "72.7232129560499"
      ]
     },
     "execution_count": 90,
     "metadata": {},
     "output_type": "execute_result"
    }
   ],
   "source": [
    "prediction_rfr['Y_predict'].max()"
   ]
  },
  {
   "cell_type": "code",
   "execution_count": 91,
   "metadata": {},
   "outputs": [
    {
     "data": {
      "text/plain": [
       "0.20895452193951936"
      ]
     },
     "execution_count": 91,
     "metadata": {},
     "output_type": "execute_result"
    }
   ],
   "source": [
    "# Percentage\n",
    "y[y>=max(rfr_pred_train)].shape[0]/y.shape[0]"
   ]
  },
  {
   "cell_type": "code",
   "execution_count": 73,
   "metadata": {},
   "outputs": [
    {
     "name": "stdout",
     "output_type": "stream",
     "text": [
      "RMSE of Random Forest model on training dataset = 18.647\n",
      "R2 score = 0.7037\n"
     ]
    }
   ],
   "source": [
    "rmse_train_rfrselected = np.sqrt(sum(cost_train_rfr)/len(cost_train_rfr))\n",
    "r2_train_rfrselected = 1-sum(cost_train_rfr)/sum((np.array(y)-sum(np.array(y))/len(np.array(y)))**2)\n",
    "\n",
    "print(f'RMSE of Random Forest model on training dataset = {round(rmse_train_rfrselected,3)}')\n",
    "print(f'R2 score = {round(r2_train_rfrselected,4)}')"
   ]
  },
  {
   "cell_type": "markdown",
   "metadata": {},
   "source": [
    "### Conclusion of Modeling\n",
    "\n",
    "Comparing Lasso regression and Decision Tree Regressor, the overall prediction looks alike, with lots of wrongly predicted datapoints on low critical temperature observations and some underestimated observations on higher critical temperature observations. "
   ]
  },
  {
   "cell_type": "markdown",
   "metadata": {},
   "source": [
    "#### Find Subset And Feature Selection"
   ]
  },
  {
   "cell_type": "code",
   "execution_count": null,
   "metadata": {},
   "outputs": [],
   "source": [
    "def processSubset(x,y,feature_set,learningrate,epochs, q1):\n",
    "    # Select features\n",
    "    x = x[list(feature_set)]\n",
    "    w, b, cost_list= q1.train(x, y, np.zeros(x.shape[1]), 0, learningrate=learningrate,epochs=epochs)\n",
    "    # regr = model.train()\n",
    "    predict = q1.predict(x=x, w=w, b=b)\n",
    "    rss = ((predict-y)**2).sum()\n",
    "    return {\"w\":w,\"b\":b, \"RSS\":rss}\n",
    "\n",
    "def getBest(k,x,y,epo):\n",
    "    results = [] \n",
    "    combo_list = []\n",
    "    for combo in itertools.combinations(x.columns, k):\n",
    "        results.append(processSubset(x=x,y=y,feature_set=combo,learningrate=0.01,epochs=epo))\n",
    "        combo_list.append(combo)\n",
    "    # Wrap everything up in a nice dataframe\n",
    "    models = pd.DataFrame(results)\n",
    "    models['Combo'] = combo_list\n",
    "    # Choose the model with the highest RSS\n",
    "    best_model = models.loc[models['RSS'].argmin()]\n",
    "    #print(\"Processed\", models.shape[0], \"models on\", k)\n",
    "    # Return the best model, along with some other useful information about the model\n",
    "    return best_model"
   ]
  },
  {
   "cell_type": "code",
   "execution_count": null,
   "metadata": {},
   "outputs": [],
   "source": [
    "# models_best = pd.DataFrame(columns=[\"w\", \"b\",\"RSS\",\"Combo\"])\n",
    "# for i in range(1,7):\n",
    "#     models_best.loc[i] = getBest(i,x,y,epo=250)"
   ]
  },
  {
   "cell_type": "code",
   "execution_count": null,
   "metadata": {},
   "outputs": [],
   "source": [
    "def forward(x,y,predictors, lr, epo):\n",
    "    # Pull out predictors we still need to process\n",
    "    remaining_predictors = [p for p in x.columns if p not in predictors]\n",
    "    results = []\n",
    "    combo_list = []\n",
    "\n",
    "    for p in remaining_predictors:\n",
    "        results.append(processSubset(x,y,predictors+[p], learningrate=lr, epochs=epo))\n",
    "        combo_list.append(predictors+[p])\n",
    "    \n",
    "    # # Wrap everything up in a nice dataframe\n",
    "    models = pd.DataFrame(results)\n",
    "    models['Predictors'] = combo_list\n",
    "\n",
    "    # # Choose the model with the highest RSS\n",
    "    best_model = models.loc[models['RSS'].argmin()]\n",
    "    \n",
    "    # Return the best model, along with some other useful information about the model\n",
    "    return best_model\n",
    "\n",
    "def backward(x,y,predictors,lr,epo):\n",
    "    results = []\n",
    "    combo_list = []\n",
    "\n",
    "    for combo in itertools.combinations(predictors, len(predictors)-1):\n",
    "        results.append(processSubset(x,y,combo,learningrate=lr, epochs=epo))\n",
    "        combo_list.append(combo)\n",
    "    \n",
    "    # Wrap everything up in a nice dataframe\n",
    "    models = pd.DataFrame(results)\n",
    "    models['Predictors'] = combo_list\n",
    "    # Choose the model with the highest RSS\n",
    "    best_model = models.loc[models['RSS'].argmin()]\n",
    "\n",
    "    # Return the best model, along with some other useful information about the model\n",
    "    return best_model"
   ]
  },
  {
   "cell_type": "code",
   "execution_count": null,
   "metadata": {},
   "outputs": [],
   "source": [
    "# models_fwd = pd.DataFrame(columns=[\"w\", \"b\",\"RSS\",\"Predictors\"])\n",
    "# predictors = []\n",
    "\n",
    "# for i in range(1,len(features_order)):  \n",
    "#     predictors = features_order[0:i]  \n",
    "#     models_fwd.loc[i] = forward(x,y,predictors,lr=0.01,epo=250)\n",
    "\n",
    "# models_fwd\n",
    "\n",
    "# models_bwd = pd.DataFrame(columns=[\"w\", \"b\",\"RSS\",\"Predictors\"], index = range(1,len(x.columns)))\n",
    "# features_order = ['SqFt','Bathrooms','Neighborhood','Brick','Bedrooms','Offers']\n",
    "\n",
    "# while(len(features_order) > 0):  \n",
    "#     models_bwd.loc[len(features_order)] = backward(x,y,features_order,lr=0.01,epo=250)\n",
    "#     features_order.pop()\n",
    "\n",
    "# models_bwd"
   ]
  }
 ],
 "metadata": {
  "kernelspec": {
   "display_name": "Python 3.8.8 64-bit",
   "language": "python",
   "name": "python3"
  },
  "language_info": {
   "codemirror_mode": {
    "name": "ipython",
    "version": 3
   },
   "file_extension": ".py",
   "mimetype": "text/x-python",
   "name": "python",
   "nbconvert_exporter": "python",
   "pygments_lexer": "ipython3",
   "version": "3.8.8"
  },
  "orig_nbformat": 4,
  "vscode": {
   "interpreter": {
    "hash": "82f6ad5c16f96bd4c09885635dc45a9905d4ac7b1c081542d45b0fe5279d5fc5"
   }
  }
 },
 "nbformat": 4,
 "nbformat_minor": 2
}
